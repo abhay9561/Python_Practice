{
 "cells": [
  {
   "cell_type": "markdown",
   "id": "f050eb24",
   "metadata": {},
   "source": [
    "# Function\n"
   ]
  },
  {
   "cell_type": "code",
   "execution_count": 2,
   "id": "ec2fe07b",
   "metadata": {},
   "outputs": [
    {
     "ename": "SyntaxError",
     "evalue": "invalid syntax (797628699.py, line 1)",
     "output_type": "error",
     "traceback": [
      "\u001b[1;36m  Cell \u001b[1;32mIn[2], line 1\u001b[1;36m\u001b[0m\n\u001b[1;33m    Syntax:\u001b[0m\n\u001b[1;37m           ^\u001b[0m\n\u001b[1;31mSyntaxError\u001b[0m\u001b[1;31m:\u001b[0m invalid syntax\n"
     ]
    }
   ],
   "source": [
    " Syntax:\n",
    " def function_name(argumensts/variable):\n",
    " ----Business logic\n",
    "       .\n",
    "       .\n",
    " ----  .\n",
    "       .\n",
    " ----Return argument \n",
    "\n",
    "\n",
    "#  write block in once\n",
    "#  call that block many times"
   ]
  },
  {
   "cell_type": "code",
   "execution_count": 6,
   "id": "441d8362",
   "metadata": {},
   "outputs": [],
   "source": [
    "# variable = function_name(arguments)"
   ]
  },
  {
   "cell_type": "code",
   "execution_count": 1,
   "id": "fe777c70",
   "metadata": {},
   "outputs": [],
   "source": [
    "#Add\n",
    "def add(n1,n2):\n",
    "    res=n1+n2\n",
    "    return res"
   ]
  },
  {
   "cell_type": "code",
   "execution_count": 2,
   "id": "57136f27",
   "metadata": {},
   "outputs": [
    {
     "name": "stdout",
     "output_type": "stream",
     "text": [
      "12\n"
     ]
    }
   ],
   "source": [
    "result=add(8,4)\n",
    "print(result)"
   ]
  },
  {
   "cell_type": "code",
   "execution_count": 3,
   "id": "78e16294",
   "metadata": {},
   "outputs": [
    {
     "name": "stdout",
     "output_type": "stream",
     "text": [
      "14\n"
     ]
    }
   ],
   "source": [
    "result=add(10,4)\n",
    "print(result)"
   ]
  },
  {
   "cell_type": "code",
   "execution_count": 5,
   "id": "04878516",
   "metadata": {},
   "outputs": [
    {
     "name": "stdout",
     "output_type": "stream",
     "text": [
      "-90\n"
     ]
    }
   ],
   "source": [
    "result=add(-100,10)\n",
    "print(result)"
   ]
  },
  {
   "cell_type": "code",
   "execution_count": 6,
   "id": "e546c9e5",
   "metadata": {},
   "outputs": [],
   "source": [
    "#sub\n",
    "def sub (n1,n2):\n",
    "    res=n1-n2\n",
    "    return res\n"
   ]
  },
  {
   "cell_type": "code",
   "execution_count": 7,
   "id": "08c4c4c2",
   "metadata": {},
   "outputs": [
    {
     "name": "stdout",
     "output_type": "stream",
     "text": [
      "5\n"
     ]
    }
   ],
   "source": [
    "result = sub(10,5)\n",
    "print(result)"
   ]
  },
  {
   "cell_type": "code",
   "execution_count": 8,
   "id": "7023cc34",
   "metadata": {},
   "outputs": [],
   "source": [
    "#sub\n",
    "def sub (n1,n2):\n",
    "    res=n1-n2\n",
    "    return res"
   ]
  },
  {
   "cell_type": "code",
   "execution_count": 11,
   "id": "cc3d4c92",
   "metadata": {},
   "outputs": [
    {
     "name": "stdout",
     "output_type": "stream",
     "text": [
      "-7\n"
     ]
    }
   ],
   "source": [
    "result = sub(-2,5)\n",
    "print(result)"
   ]
  },
  {
   "cell_type": "code",
   "execution_count": 12,
   "id": "0ca368b1",
   "metadata": {},
   "outputs": [],
   "source": [
    "#Mul\n",
    "def mul (n1,n2):\n",
    "    res=n1*n2\n",
    "    return res"
   ]
  },
  {
   "cell_type": "code",
   "execution_count": 15,
   "id": "887882b3",
   "metadata": {},
   "outputs": [
    {
     "name": "stdout",
     "output_type": "stream",
     "text": [
      "1150\n"
     ]
    }
   ],
   "source": [
    "result = mul(50, 23)\n",
    "print(result)"
   ]
  },
  {
   "cell_type": "code",
   "execution_count": 16,
   "id": "e3849584",
   "metadata": {},
   "outputs": [],
   "source": [
    "#Divide\n",
    "def div (n1,n2):\n",
    "    res=n1/n2\n",
    "    return res"
   ]
  },
  {
   "cell_type": "code",
   "execution_count": 17,
   "id": "cfc975f0",
   "metadata": {},
   "outputs": [
    {
     "name": "stdout",
     "output_type": "stream",
     "text": [
      "5.0\n"
     ]
    }
   ],
   "source": [
    "result = div (10, 2)\n",
    "print(result)"
   ]
  },
  {
   "cell_type": "code",
   "execution_count": 44,
   "id": "702e37fc",
   "metadata": {},
   "outputs": [],
   "source": [
    "#Divide\n",
    "def div (n1,n2):\n",
    "    res=n1/n2\n",
    "    return res"
   ]
  },
  {
   "cell_type": "code",
   "execution_count": 45,
   "id": "b497c873",
   "metadata": {},
   "outputs": [
    {
     "name": "stdout",
     "output_type": "stream",
     "text": [
      "Enter value of n1: 100\n",
      "Enter value of n2: 10\n",
      "10.0\n"
     ]
    }
   ],
   "source": [
    "n1=float(input(\"Enter value of n1: \"))\n",
    "n2=float(input(\"Enter value of n2: \"))\n",
    "result = div (n1, n2) \n",
    "print(result)"
   ]
  },
  {
   "cell_type": "code",
   "execution_count": 22,
   "id": "1c5771e0",
   "metadata": {},
   "outputs": [],
   "source": [
    "#square root\n",
    "def sqrt(num):\n",
    "    res=num**0.5\n",
    "    return res"
   ]
  },
  {
   "cell_type": "code",
   "execution_count": 25,
   "id": "2e1be315",
   "metadata": {},
   "outputs": [
    {
     "name": "stdout",
     "output_type": "stream",
     "text": [
      "Enter num: 25\n",
      "5.0\n"
     ]
    }
   ],
   "source": [
    "num = float(input(\"Enter num: \"))\n",
    "result= sqrt(num)#...........this num we take from this \"num = float(input(\"Enter num: \"))\"\"\n",
    "print(result)"
   ]
  },
  {
   "cell_type": "code",
   "execution_count": 30,
   "id": "e6f0aad9",
   "metadata": {},
   "outputs": [
    {
     "name": "stdout",
     "output_type": "stream",
     "text": [
      "Enter num: 127\n",
      "Cube root is: 5.026525695313479\n"
     ]
    }
   ],
   "source": [
    "def curt(num):\n",
    "    res = num ** (1/3)   # Use parentheses\n",
    "    return res\n",
    "\n",
    "um = float(input(\"Enter num: \"))\n",
    "result = curt(um)\n",
    "print(\"Cube root is:\", result)\n",
    "\n"
   ]
  },
  {
   "cell_type": "code",
   "execution_count": 33,
   "id": "12dd779e",
   "metadata": {},
   "outputs": [
    {
     "name": "stdout",
     "output_type": "stream",
     "text": [
      "Enter radius: 24\n",
      "1808.6399999999999\n"
     ]
    }
   ],
   "source": [
    "# write a program to caluclate  area of different shapes using function, where we get input from ueers\n",
    "\n",
    "def cir(radius):\n",
    "    res = 3.14 * radius * radius  # Use 'radius', not 'r'\n",
    "    return res\n",
    "\n",
    "r = float(input(\"Enter radius: \"))\n",
    "result = cir(r)  # Pass 'r' (not 'res')\n",
    "print(result)\n"
   ]
  },
  {
   "cell_type": "code",
   "execution_count": 34,
   "id": "d36d16fc",
   "metadata": {},
   "outputs": [
    {
     "name": "stdout",
     "output_type": "stream",
     "text": [
      "Enter radius: 25\n",
      "1962.5\n"
     ]
    }
   ],
   "source": [
    "def cir (radius):\n",
    "    res = 3.14 * radius * radius\n",
    "    return res\n",
    "\n",
    "r = float(input(\"Enter radius: \"))\n",
    "result=cir(r)\n",
    "print(result)"
   ]
  },
  {
   "cell_type": "code",
   "execution_count": 47,
   "id": "abf5b4cc",
   "metadata": {},
   "outputs": [
    {
     "name": "stdout",
     "output_type": "stream",
     "text": [
      "Enter side1: 12\n",
      "Enter side2: 15\n",
      "180.0\n"
     ]
    }
   ],
   "source": [
    "def sqa(side1,side2):\n",
    "    res=side1*side2\n",
    "    return res\n",
    "\n",
    "side1=float(input(\"Enter side1: \"))\n",
    "side2=float(input(\"Enter side2: \"))\n",
    "result=sqa(side1,side2)\n",
    "print(result)"
   ]
  },
  {
   "cell_type": "code",
   "execution_count": 36,
   "id": "0ec63b4d",
   "metadata": {},
   "outputs": [
    {
     "name": "stdout",
     "output_type": "stream",
     "text": [
      "Enter side1: 6\n",
      "Enter side2: 7\n",
      "42.0\n"
     ]
    }
   ],
   "source": [
    "def sqa(side1, side2):  # Function parameters should be 'side1' and 'side2'\n",
    "    res = side1 * side2  # Multiply the two sides\n",
    "    return res\n",
    "\n",
    "side1 = float(input(\"Enter side1: \"))  # User input for side1\n",
    "side2 = float(input(\"Enter side2: \"))  # User input for side2\n",
    "result = sqa(side1, side2)  # Call the function with side1 and side2\n",
    "print(result)  # Output the result"
   ]
  },
  {
   "cell_type": "code",
   "execution_count": 38,
   "id": "0cdcb9c8",
   "metadata": {},
   "outputs": [
    {
     "name": "stdout",
     "output_type": "stream",
     "text": [
      "Enter length5\n",
      "Enter breadth5\n",
      "25.0\n"
     ]
    }
   ],
   "source": [
    "# this is incorrect code we have to take (l,b)..insert of (num)\n",
    "def rect(num):S\n",
    "    res=l*b\n",
    "    return res\n",
    "l = float(input(\"Enter length\"))\n",
    "b = float(input(\"Enter breadth\"))\n",
    "result=rect(res)\n",
    "print(result)"
   ]
  },
  {
   "cell_type": "code",
   "execution_count": 40,
   "id": "04fbace8",
   "metadata": {},
   "outputs": [
    {
     "name": "stdout",
     "output_type": "stream",
     "text": [
      "Enter length: 5\n",
      "Enter breadth: 5\n",
      "25.0\n"
     ]
    }
   ],
   "source": [
    "#This is correct code\n",
    "def rect(l, b):  # Use l and b as parameters\n",
    "    res = l * b   # Multiply the length and breadth\n",
    "    return res\n",
    "\n",
    "l = float(input(\"Enter length: \"))\n",
    "b = float(input(\"Enter breadth: \"))\n",
    "result = rect(l, b)  # Pass l and b to the function\n",
    "print(result)\n"
   ]
  },
  {
   "cell_type": "code",
   "execution_count": 42,
   "id": "a98bee5f",
   "metadata": {},
   "outputs": [
    {
     "name": "stdout",
     "output_type": "stream",
     "text": [
      "Enter length: 15\n",
      "Enter breadth: 10\n",
      "75.0\n"
     ]
    }
   ],
   "source": [
    "def tri(l,b):\n",
    "    res = 0.5*l*b\n",
    "    return res\n",
    "\n",
    "l = float(input(\"Enter length: \"))\n",
    "b = float(input(\"Enter breadth: \"))\n",
    "result = tri(l,b)\n",
    "print(result)"
   ]
  },
  {
   "cell_type": "code",
   "execution_count": null,
   "id": "92d2c4ef",
   "metadata": {},
   "outputs": [],
   "source": []
  },
  {
   "cell_type": "code",
   "execution_count": null,
   "id": "4060c7f4",
   "metadata": {},
   "outputs": [],
   "source": []
  }
 ],
 "metadata": {
  "kernelspec": {
   "display_name": "Python 3 (ipykernel)",
   "language": "python",
   "name": "python3"
  },
  "language_info": {
   "codemirror_mode": {
    "name": "ipython",
    "version": 3
   },
   "file_extension": ".py",
   "mimetype": "text/x-python",
   "name": "python",
   "nbconvert_exporter": "python",
   "pygments_lexer": "ipython3",
   "version": "3.11.5"
  }
 },
 "nbformat": 4,
 "nbformat_minor": 5
}
