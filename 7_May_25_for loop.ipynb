{
 "cells": [
  {
   "cell_type": "raw",
   "id": "f64ad9dc",
   "metadata": {},
   "source": [
    "For Loop=>\n",
    "1) start\n",
    "2) end\n",
    "3) change/step\n",
    "\n",
    "#syntax: for <var> in <collection>: #"
   ]
  },
  {
   "cell_type": "code",
   "execution_count": 42,
   "id": "6c7af6a0",
   "metadata": {},
   "outputs": [],
   "source": [
    "#syntax: for <var> in <collection>:\n"
   ]
  },
  {
   "cell_type": "code",
   "execution_count": 52,
   "id": "661f7ded",
   "metadata": {},
   "outputs": [
    {
     "data": {
      "text/plain": [
       "range(1, 11)"
      ]
     },
     "execution_count": 52,
     "metadata": {},
     "output_type": "execute_result"
    }
   ],
   "source": [
    "range(1,11,1)"
   ]
  },
  {
   "cell_type": "code",
   "execution_count": 53,
   "id": "66d57482",
   "metadata": {},
   "outputs": [
    {
     "data": {
      "text/plain": [
       "[1, 2, 3, 4, 5, 6, 7, 8, 9, 10]"
      ]
     },
     "execution_count": 53,
     "metadata": {},
     "output_type": "execute_result"
    }
   ],
   "source": [
    "list(range(1,11,1))"
   ]
  },
  {
   "cell_type": "code",
   "execution_count": 54,
   "id": "06689aa3",
   "metadata": {},
   "outputs": [
    {
     "data": {
      "text/plain": [
       "range(0, 10)"
      ]
     },
     "execution_count": 54,
     "metadata": {},
     "output_type": "execute_result"
    }
   ],
   "source": [
    "range(10)"
   ]
  },
  {
   "cell_type": "code",
   "execution_count": 55,
   "id": "619155b2",
   "metadata": {},
   "outputs": [
    {
     "data": {
      "text/plain": [
       "[1, 2, 3, 4, 5, 6, 7, 8, 9]"
      ]
     },
     "execution_count": 55,
     "metadata": {},
     "output_type": "execute_result"
    }
   ],
   "source": [
    "list(range(1,10))"
   ]
  },
  {
   "cell_type": "code",
   "execution_count": 56,
   "id": "22fb6825",
   "metadata": {},
   "outputs": [
    {
     "name": "stdout",
     "output_type": "stream",
     "text": [
      "hello\n",
      "1\n",
      "hello\n",
      "2\n",
      "hello\n",
      "3\n",
      "hello\n",
      "4\n",
      "hello\n",
      "5\n",
      "hello\n",
      "6\n",
      "hello\n",
      "7\n",
      "hello\n",
      "8\n",
      "hello\n",
      "9\n",
      "hello\n",
      "10\n",
      "End\n"
     ]
    }
   ],
   "source": [
    "for i in range(1,11,1):\n",
    "    print(\"hello\")\n",
    "    print(i)\n",
    "print(\"End\")\n"
   ]
  },
  {
   "cell_type": "code",
   "execution_count": 57,
   "id": "7a09ef22",
   "metadata": {},
   "outputs": [
    {
     "name": "stdout",
     "output_type": "stream",
     "text": [
      "hello\n",
      "1\n",
      "End\n"
     ]
    }
   ],
   "source": [
    "for i in range(1,2):\n",
    "    print(\"hello\")\n",
    "    print(i)\n",
    "print(\"End\")"
   ]
  },
  {
   "cell_type": "code",
   "execution_count": 58,
   "id": "aae84c2c",
   "metadata": {},
   "outputs": [
    {
     "name": "stdout",
     "output_type": "stream",
     "text": [
      "Hello\n",
      "-1\n",
      "Hello\n",
      "0\n",
      "Hello\n",
      "1\n",
      "Hello\n",
      "2\n",
      "Hello\n",
      "3\n",
      "Hello\n",
      "4\n",
      "Hello\n",
      "5\n",
      "Hello\n",
      "6\n",
      "Hello\n",
      "7\n",
      "Hello\n",
      "8\n",
      "Hello\n",
      "9\n",
      "End\n"
     ]
    }
   ],
   "source": [
    "for i in range(-1,10):\n",
    "    print(\"Hello\")\n",
    "    print(i)\n",
    "print(\"End\") "
   ]
  },
  {
   "cell_type": "code",
   "execution_count": 59,
   "id": "8ebcaa18",
   "metadata": {},
   "outputs": [
    {
     "name": "stdout",
     "output_type": "stream",
     "text": [
      "hello\n",
      "-5\n",
      "hello\n",
      "-4\n",
      "hello\n",
      "-3\n",
      "hello\n",
      "-2\n",
      "hello\n",
      "-1\n",
      "hello\n",
      "0\n",
      "hello\n",
      "1\n",
      "End\n"
     ]
    }
   ],
   "source": [
    "for i in range(-5,2):\n",
    "    print(\"hello\")\n",
    "    print(i)\n",
    "print(\"End\")"
   ]
  },
  {
   "cell_type": "code",
   "execution_count": 66,
   "id": "51ce8e66",
   "metadata": {},
   "outputs": [
    {
     "name": "stdout",
     "output_type": "stream",
     "text": [
      "0\n",
      "1\n",
      "2\n",
      "3\n",
      "4\n",
      "5\n",
      "6\n",
      "7\n",
      "8\n",
      "9\n",
      "10\n"
     ]
    }
   ],
   "source": [
    "for i in range(11):\n",
    "    print(i)"
   ]
  },
  {
   "cell_type": "code",
   "execution_count": 79,
   "id": "bb8009f8",
   "metadata": {},
   "outputs": [
    {
     "name": "stdout",
     "output_type": "stream",
     "text": [
      "Enter the number2\n",
      "2\n",
      "4\n",
      "6\n",
      "8\n",
      "10\n",
      "12\n",
      "14\n",
      "16\n",
      "18\n",
      "20\n"
     ]
    }
   ],
   "source": [
    "#write a program to print multiplication table for input value\n",
    "num = int(input(\"Enter the number\"))\n",
    "for i in range(1,11):\n",
    "    print(num*i)\n",
    "    \n",
    "    "
   ]
  },
  {
   "cell_type": "code",
   "execution_count": 1,
   "id": "2a0b8a03",
   "metadata": {},
   "outputs": [
    {
     "name": "stdout",
     "output_type": "stream",
     "text": [
      "Enter the number45\n",
      "225\n",
      "270\n",
      "315\n",
      "360\n",
      "405\n",
      "450\n",
      "495\n",
      "540\n",
      "585\n",
      "630\n",
      "675\n",
      "720\n",
      "765\n",
      "810\n",
      "855\n",
      "900\n",
      "945\n",
      "990\n",
      "1035\n",
      "1080\n",
      "1125\n",
      "1170\n",
      "1215\n",
      "1260\n",
      "1305\n",
      "1350\n",
      "1395\n",
      "1440\n",
      "1485\n",
      "1530\n",
      "1575\n",
      "1620\n",
      "1665\n",
      "1710\n",
      "1755\n",
      "1800\n",
      "1845\n",
      "1890\n",
      "1935\n",
      "1980\n",
      "2025\n",
      "2070\n",
      "2115\n",
      "2160\n",
      "2205\n"
     ]
    }
   ],
   "source": [
    "num = int(input(\"Enter the number\"))\n",
    "for i in range(5,50):\n",
    "    print(num*i)\n",
    "    "
   ]
  },
  {
   "cell_type": "code",
   "execution_count": 2,
   "id": "47c0c285",
   "metadata": {},
   "outputs": [
    {
     "name": "stdout",
     "output_type": "stream",
     "text": [
      "Enter charater4\n",
      "4\n",
      "44\n",
      "444\n",
      "4444\n"
     ]
    }
   ],
   "source": [
    "a =input(\"Enter charater\")\n",
    "for i in range(1,5,1):\n",
    "    print(i*a)\n"
   ]
  },
  {
   "cell_type": "code",
   "execution_count": null,
   "id": "67f633c1",
   "metadata": {},
   "outputs": [],
   "source": []
  },
  {
   "cell_type": "code",
   "execution_count": null,
   "id": "3024eaf5",
   "metadata": {},
   "outputs": [],
   "source": []
  },
  {
   "cell_type": "code",
   "execution_count": null,
   "id": "e1744f91",
   "metadata": {},
   "outputs": [],
   "source": []
  }
 ],
 "metadata": {
  "kernelspec": {
   "display_name": "Python 3 (ipykernel)",
   "language": "python",
   "name": "python3"
  },
  "language_info": {
   "codemirror_mode": {
    "name": "ipython",
    "version": 3
   },
   "file_extension": ".py",
   "mimetype": "text/x-python",
   "name": "python",
   "nbconvert_exporter": "python",
   "pygments_lexer": "ipython3",
   "version": "3.11.5"
  }
 },
 "nbformat": 4,
 "nbformat_minor": 5
}
