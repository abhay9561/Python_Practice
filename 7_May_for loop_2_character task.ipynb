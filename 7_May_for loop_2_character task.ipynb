{
 "cells": [
  {
   "cell_type": "code",
   "execution_count": 9,
   "id": "6b7eb8f5",
   "metadata": {},
   "outputs": [
    {
     "name": "stdout",
     "output_type": "stream",
     "text": [
      "Enter charater#\n",
      "#\n",
      "##\n",
      "###\n",
      "####\n"
     ]
    }
   ],
   "source": [
    "# Charater coding\n",
    "a =input(\"Enter charater\")\n",
    "for i in range(1,5,1):\n",
    "    print(i*a)"
   ]
  },
  {
   "cell_type": "code",
   "execution_count": 10,
   "id": "eff04958",
   "metadata": {},
   "outputs": [
    {
     "name": "stdout",
     "output_type": "stream",
     "text": [
      "&\n",
      "##\n",
      "&&&\n",
      "####\n"
     ]
    }
   ],
   "source": [
    "\n",
    "for i in range(1,5):\n",
    "    if(i%2==0):\n",
    "        print('#'*i)\n",
    "    else:\n",
    "        print('&'*i)\n",
    "\n",
    "    \n",
    "    "
   ]
  },
  {
   "cell_type": "code",
   "execution_count": 11,
   "id": "9244dcec",
   "metadata": {},
   "outputs": [
    {
     "name": "stdout",
     "output_type": "stream",
     "text": [
      "Enter character#\n",
      "Enter charater@\n",
      "@\n",
      "##\n",
      "@@@\n",
      "####\n"
     ]
    }
   ],
   "source": [
    "a = input(\"Enter character\")\n",
    "b= input(\"Enter charater\")\n",
    "for i in range(1,5,1):\n",
    "    if(i%2==0):\n",
    "        print(i*a)\n",
    "    else:\n",
    "        print(i*b)\n"
   ]
  },
  {
   "cell_type": "code",
   "execution_count": 12,
   "id": "768e77fe",
   "metadata": {},
   "outputs": [
    {
     "name": "stdout",
     "output_type": "stream",
     "text": [
      "3\n",
      "prime\n"
     ]
    }
   ],
   "source": [
    "# prime or not\n",
    "\n",
    "num=int(input())\n",
    "for i in range(2,num):\n",
    "    if num%i==0:\n",
    "        print(\"not prime\")\n",
    "        break\n",
    "else:\n",
    "    print(\"prime\")"
   ]
  },
  {
   "cell_type": "code",
   "execution_count": 13,
   "id": "ceab00c1",
   "metadata": {},
   "outputs": [
    {
     "name": "stdout",
     "output_type": "stream",
     "text": [
      "6\n",
      "not prime\n"
     ]
    }
   ],
   "source": [
    "# prime or not\n",
    "\n",
    "num=int(input())\n",
    "for i in range(2,num):\n",
    "    if num%i==0:\n",
    "        print(\"not prime\")\n",
    "        break\n",
    "else:\n",
    "    print(\"prime\")"
   ]
  },
  {
   "cell_type": "code",
   "execution_count": 14,
   "id": "130630c3",
   "metadata": {},
   "outputs": [
    {
     "name": "stdout",
     "output_type": "stream",
     "text": [
      "3\n",
      "prime\n"
     ]
    }
   ],
   "source": [
    "\n",
    "c=0\n",
    "num=int(input())\n",
    "for i in range(2,num):\n",
    "    if num%i==0:\n",
    "        c+=1\n",
    "if c==0:\n",
    "    print(\"prime\")\n",
    "    \n",
    "else:\n",
    "    print(\" not prime\")"
   ]
  },
  {
   "cell_type": "code",
   "execution_count": 15,
   "id": "62e7ee93",
   "metadata": {},
   "outputs": [
    {
     "name": "stdout",
     "output_type": "stream",
     "text": [
      "9\n",
      " not prime\n"
     ]
    }
   ],
   "source": [
    "c=0\n",
    "num=int(input())\n",
    "for i in range(2,num):\n",
    "    if num%i==0:\n",
    "        c+=1\n",
    "if c==0:\n",
    "    print(\"prime\")\n",
    "    \n",
    "else:\n",
    "    print(\" not prime\")"
   ]
  },
  {
   "cell_type": "code",
   "execution_count": 24,
   "id": "8998036c",
   "metadata": {},
   "outputs": [],
   "source": [
    "# #Assignment  for practices \n",
    "# 1\n",
    "# 1 2\n",
    "# 1 2 3\n",
    "# 1 2 3 4\n",
    "# ..................\n",
    "# 1\n",
    "# 2 2\n",
    "# 3 3 3\n",
    "# 4 4 4 4\n",
    "# ..................\n",
    "# 1\n",
    "# 2 3\n",
    "# 4 5 6\n",
    "# 7 8 9 10 #\n",
    "\n",
    "\n"
   ]
  },
  {
   "cell_type": "code",
   "execution_count": 25,
   "id": "274315fe",
   "metadata": {},
   "outputs": [
    {
     "name": "stdout",
     "output_type": "stream",
     "text": [
      "1\n",
      "12\n",
      "123\n",
      "1234\n"
     ]
    }
   ],
   "source": [
    "for i in range(1, 5):\n",
    "    for j in range(1, i + 1):\n",
    "        print(j, end='')  # Print numbers without newline\n",
    "    print()  # Move to the next line after each row\n",
    "\n"
   ]
  },
  {
   "cell_type": "code",
   "execution_count": 28,
   "id": "05e8c6d1",
   "metadata": {},
   "outputs": [
    {
     "name": "stdout",
     "output_type": "stream",
     "text": [
      "1\n",
      "22\n",
      "333\n",
      "4444\n"
     ]
    }
   ],
   "source": [
    "for i in range(1, 5):\n",
    "    for j in range(i):\n",
    "        print(i, end='')  # Print the value of i without newline\n",
    "    print()  # Move to the next line after each row\n"
   ]
  },
  {
   "cell_type": "code",
   "execution_count": 30,
   "id": "5e04048c",
   "metadata": {},
   "outputs": [
    {
     "name": "stdout",
     "output_type": "stream",
     "text": [
      "1\n",
      "23\n",
      "456\n",
      "78910\n"
     ]
    }
   ],
   "source": [
    "num = 1\n",
    "for i in range(1, 5):\n",
    "    for j in range(i):\n",
    "        print(num, end='')  # Print num without newline\n",
    "        num += 1  # Increment num after printing\n",
    "    print()  # Move to the next line after each row\n"
   ]
  },
  {
   "cell_type": "code",
   "execution_count": 31,
   "id": "51f9a7af",
   "metadata": {},
   "outputs": [
    {
     "name": "stdout",
     "output_type": "stream",
     "text": [
      "1\n",
      "12\n",
      "123\n",
      "1234\n"
     ]
    }
   ],
   "source": [
    "for i in range(1, 5):\n",
    "    for j in range(1, i + 1):\n",
    "        print(j, end='')  # Print numbers without newline\n",
    "    print()  # Move to the next line after each row\n"
   ]
  },
  {
   "cell_type": "code",
   "execution_count": 39,
   "id": "ec0b1f5f",
   "metadata": {},
   "outputs": [
    {
     "name": "stdout",
     "output_type": "stream",
     "text": [
      "1\n",
      "22\n",
      "333\n",
      "4444\n"
     ]
    }
   ],
   "source": [
    "for i in range(1,5):\n",
    "    for j in range (i):\n",
    "        print(i, end='')\n",
    "    print()"
   ]
  },
  {
   "cell_type": "code",
   "execution_count": 40,
   "id": "285aff67",
   "metadata": {},
   "outputs": [
    {
     "name": "stdout",
     "output_type": "stream",
     "text": [
      "1\n",
      "22\n",
      "333\n",
      "4444\n",
      "55555\n",
      "666666\n",
      "7777777\n",
      "88888888\n",
      "999999999\n",
      "10101010101010101010\n",
      "1111111111111111111111\n",
      "121212121212121212121212\n",
      "13131313131313131313131313\n",
      "1414141414141414141414141414\n",
      "151515151515151515151515151515\n",
      "16161616161616161616161616161616\n",
      "1717171717171717171717171717171717\n",
      "181818181818181818181818181818181818\n",
      "19191919191919191919191919191919191919\n",
      "2020202020202020202020202020202020202020\n",
      "212121212121212121212121212121212121212121\n",
      "22222222222222222222222222222222222222222222\n",
      "2323232323232323232323232323232323232323232323\n",
      "242424242424242424242424242424242424242424242424\n",
      "25252525252525252525252525252525252525252525252525\n",
      "2626262626262626262626262626262626262626262626262626\n",
      "272727272727272727272727272727272727272727272727272727\n",
      "28282828282828282828282828282828282828282828282828282828\n",
      "2929292929292929292929292929292929292929292929292929292929\n",
      "303030303030303030303030303030303030303030303030303030303030\n",
      "31313131313131313131313131313131313131313131313131313131313131\n",
      "3232323232323232323232323232323232323232323232323232323232323232\n",
      "333333333333333333333333333333333333333333333333333333333333333333\n",
      "34343434343434343434343434343434343434343434343434343434343434343434\n",
      "3535353535353535353535353535353535353535353535353535353535353535353535\n",
      "363636363636363636363636363636363636363636363636363636363636363636363636\n",
      "37373737373737373737373737373737373737373737373737373737373737373737373737\n",
      "3838383838383838383838383838383838383838383838383838383838383838383838383838\n",
      "393939393939393939393939393939393939393939393939393939393939393939393939393939\n",
      "40404040404040404040404040404040404040404040404040404040404040404040404040404040\n",
      "4141414141414141414141414141414141414141414141414141414141414141414141414141414141\n",
      "424242424242424242424242424242424242424242424242424242424242424242424242424242424242\n",
      "43434343434343434343434343434343434343434343434343434343434343434343434343434343434343\n",
      "4444444444444444444444444444444444444444444444444444444444444444444444444444444444444444\n",
      "454545454545454545454545454545454545454545454545454545454545454545454545454545454545454545\n",
      "46464646464646464646464646464646464646464646464646464646464646464646464646464646464646464646\n",
      "4747474747474747474747474747474747474747474747474747474747474747474747474747474747474747474747\n",
      "484848484848484848484848484848484848484848484848484848484848484848484848484848484848484848484848\n",
      "49494949494949494949494949494949494949494949494949494949494949494949494949494949494949494949494949\n"
     ]
    }
   ],
   "source": [
    "for i in range (1,50):\n",
    "    for j in range(i):\n",
    "        print(i, end='')\n",
    "    print()"
   ]
  },
  {
   "cell_type": "code",
   "execution_count": 46,
   "id": "58ef72b4",
   "metadata": {},
   "outputs": [
    {
     "name": "stdout",
     "output_type": "stream",
     "text": [
      "1\n",
      "12\n",
      "123\n",
      "1234\n",
      "12345\n",
      "123456\n",
      "1234567\n",
      "12345678\n",
      "123456789\n",
      "12345678910\n",
      "1234567891011\n",
      "123456789101112\n",
      "12345678910111213\n",
      "1234567891011121314\n",
      "123456789101112131415\n",
      "12345678910111213141516\n",
      "1234567891011121314151617\n",
      "123456789101112131415161718\n",
      "12345678910111213141516171819\n",
      "1234567891011121314151617181920\n",
      "123456789101112131415161718192021\n",
      "12345678910111213141516171819202122\n",
      "1234567891011121314151617181920212223\n",
      "123456789101112131415161718192021222324\n",
      "12345678910111213141516171819202122232425\n",
      "1234567891011121314151617181920212223242526\n",
      "123456789101112131415161718192021222324252627\n",
      "12345678910111213141516171819202122232425262728\n",
      "1234567891011121314151617181920212223242526272829\n",
      "123456789101112131415161718192021222324252627282930\n",
      "12345678910111213141516171819202122232425262728293031\n",
      "1234567891011121314151617181920212223242526272829303132\n",
      "123456789101112131415161718192021222324252627282930313233\n",
      "12345678910111213141516171819202122232425262728293031323334\n",
      "1234567891011121314151617181920212223242526272829303132333435\n",
      "123456789101112131415161718192021222324252627282930313233343536\n",
      "12345678910111213141516171819202122232425262728293031323334353637\n",
      "1234567891011121314151617181920212223242526272829303132333435363738\n",
      "123456789101112131415161718192021222324252627282930313233343536373839\n",
      "12345678910111213141516171819202122232425262728293031323334353637383940\n",
      "1234567891011121314151617181920212223242526272829303132333435363738394041\n",
      "123456789101112131415161718192021222324252627282930313233343536373839404142\n",
      "12345678910111213141516171819202122232425262728293031323334353637383940414243\n",
      "1234567891011121314151617181920212223242526272829303132333435363738394041424344\n",
      "123456789101112131415161718192021222324252627282930313233343536373839404142434445\n",
      "12345678910111213141516171819202122232425262728293031323334353637383940414243444546\n",
      "1234567891011121314151617181920212223242526272829303132333435363738394041424344454647\n",
      "123456789101112131415161718192021222324252627282930313233343536373839404142434445464748\n",
      "12345678910111213141516171819202122232425262728293031323334353637383940414243444546474849\n"
     ]
    }
   ],
   "source": [
    "for i in range(1, 50):\n",
    "    for j in range(i):  # Inner loop should iterate from 0 to i-1\n",
    "        print(j + 1, end='')  # Print numbers starting from 1\n",
    "    print()  # Move to the next line after each row\n"
   ]
  },
  {
   "cell_type": "code",
   "execution_count": 48,
   "id": "36291e69",
   "metadata": {},
   "outputs": [
    {
     "name": "stdout",
     "output_type": "stream",
     "text": [
      "1\n",
      "23\n",
      "456\n",
      "78910\n"
     ]
    }
   ],
   "source": [
    "num = 1\n",
    "for i in range(1, 5):\n",
    "    for j in range(i):\n",
    "        print(num, end='')  # Print num without newline\n",
    "        num += 1  # Increment num after printing\n",
    "    print()  # Move to the next line after each row\n"
   ]
  },
  {
   "cell_type": "code",
   "execution_count": 49,
   "id": "f751a55d",
   "metadata": {},
   "outputs": [
    {
     "name": "stdout",
     "output_type": "stream",
     "text": [
      "1  \n",
      "1  2  \n",
      "1  2  3  \n",
      "1  2  3  4  \n"
     ]
    }
   ],
   "source": [
    "for i in range(1, 5):\n",
    "    for j in range(1, i + 1):\n",
    "        print(j, end='  ')  # Use two spaces for separation\n",
    "    print()  # Move to the next line after each row\n"
   ]
  },
  {
   "cell_type": "code",
   "execution_count": 50,
   "id": "9d717b6b",
   "metadata": {},
   "outputs": [
    {
     "name": "stdout",
     "output_type": "stream",
     "text": [
      "1 \n",
      "2 3 \n",
      "4 5 6 \n",
      "7 8 9 10 \n"
     ]
    }
   ],
   "source": [
    "k = 1\n",
    "for i in range(1, 5):\n",
    "    for j in range(1, i + 1):\n",
    "        print(k, end=\" \")\n",
    "        k = k + 1\n",
    "    print()\n"
   ]
  },
  {
   "cell_type": "code",
   "execution_count": 51,
   "id": "62d00877",
   "metadata": {},
   "outputs": [
    {
     "name": "stdout",
     "output_type": "stream",
     "text": [
      "5  \n",
      "4  3  \n",
      "2  1  0  \n",
      "-1  -2  -3  -4  \n"
     ]
    }
   ],
   "source": [
    "k = 5\n",
    "for i in range(1, 5):\n",
    "    for j in range(1, i + 1):\n",
    "        print(k, end=\"  \")\n",
    "        k = k - 1  # Decrease k after each print\n",
    "    print()\n"
   ]
  },
  {
   "cell_type": "code",
   "execution_count": null,
   "id": "bf92f4d3",
   "metadata": {},
   "outputs": [],
   "source": []
  }
 ],
 "metadata": {
  "kernelspec": {
   "display_name": "Python 3 (ipykernel)",
   "language": "python",
   "name": "python3"
  },
  "language_info": {
   "codemirror_mode": {
    "name": "ipython",
    "version": 3
   },
   "file_extension": ".py",
   "mimetype": "text/x-python",
   "name": "python",
   "nbconvert_exporter": "python",
   "pygments_lexer": "ipython3",
   "version": "3.11.5"
  }
 },
 "nbformat": 4,
 "nbformat_minor": 5
}
