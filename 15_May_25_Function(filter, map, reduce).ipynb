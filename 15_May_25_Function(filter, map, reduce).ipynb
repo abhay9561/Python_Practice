{
 "cells": [
  {
   "cell_type": "markdown",
   "id": "cacca48f",
   "metadata": {},
   "source": [
    "# Function"
   ]
  },
  {
   "cell_type": "markdown",
   "id": "ef691223",
   "metadata": {},
   "source": [
    "filter, map, reduce\n",
    "\n",
    "1) map most used in data preprocessing for transform data"
   ]
  },
  {
   "cell_type": "markdown",
   "id": "c5fb2137",
   "metadata": {},
   "source": [
    "## filter\n",
    "\n",
    "syntax - list(filter(function,data))"
   ]
  },
  {
   "cell_type": "code",
   "execution_count": 78,
   "id": "3f72454c",
   "metadata": {},
   "outputs": [],
   "source": [
    "l1 = [1,2,3,4,5,6,7,8,9,10] "
   ]
  },
  {
   "cell_type": "code",
   "execution_count": 79,
   "id": "6d24cac0",
   "metadata": {},
   "outputs": [
    {
     "data": {
      "text/plain": [
       "[1, 3, 5, 7, 9]"
      ]
     },
     "execution_count": 79,
     "metadata": {},
     "output_type": "execute_result"
    }
   ],
   "source": [
    "list(filter(lambda x:x%2==1,l1))"
   ]
  },
  {
   "cell_type": "code",
   "execution_count": 80,
   "id": "539f6af3",
   "metadata": {},
   "outputs": [],
   "source": [
    "def odd(x):\n",
    "    if x%2==1:\n",
    "        return True\n",
    "    else:\n",
    "        return False\n",
    "        \n",
    "    "
   ]
  },
  {
   "cell_type": "code",
   "execution_count": 81,
   "id": "1e3f1357",
   "metadata": {},
   "outputs": [
    {
     "data": {
      "text/plain": [
       "<filter at 0x23e52a083d0>"
      ]
     },
     "execution_count": 81,
     "metadata": {},
     "output_type": "execute_result"
    }
   ],
   "source": [
    "(filter(odd,l1)) #memory address"
   ]
  },
  {
   "cell_type": "code",
   "execution_count": 82,
   "id": "2677e27f",
   "metadata": {},
   "outputs": [
    {
     "data": {
      "text/plain": [
       "[1, 3, 5, 7, 9]"
      ]
     },
     "execution_count": 82,
     "metadata": {},
     "output_type": "execute_result"
    }
   ],
   "source": [
    "list(filter(odd,l1))"
   ]
  },
  {
   "cell_type": "code",
   "execution_count": null,
   "id": "aad98fb7",
   "metadata": {},
   "outputs": [],
   "source": []
  },
  {
   "cell_type": "markdown",
   "id": "ac3ae865",
   "metadata": {},
   "source": [
    "# Map"
   ]
  },
  {
   "cell_type": "markdown",
   "id": "c3fd53d9",
   "metadata": {},
   "source": [
    "Syntax - list(map(function,data))"
   ]
  },
  {
   "cell_type": "code",
   "execution_count": 83,
   "id": "70cb9fdd",
   "metadata": {},
   "outputs": [
    {
     "data": {
      "text/plain": [
       "[1, 4, 9, 16, 25, 36, 49, 64, 81, 100]"
      ]
     },
     "execution_count": 83,
     "metadata": {},
     "output_type": "execute_result"
    }
   ],
   "source": [
    "list(map(lambda x:x**2,l1))"
   ]
  },
  {
   "cell_type": "code",
   "execution_count": 84,
   "id": "ee2d67c8",
   "metadata": {},
   "outputs": [],
   "source": [
    "#Area of circle using map function\n",
    "l2 = [1,2,3,4,5]"
   ]
  },
  {
   "cell_type": "code",
   "execution_count": 85,
   "id": "c1efd3bc",
   "metadata": {},
   "outputs": [
    {
     "data": {
      "text/plain": [
       "[3.14, 12.56, 28.26, 50.24, 78.5]"
      ]
     },
     "execution_count": 85,
     "metadata": {},
     "output_type": "execute_result"
    }
   ],
   "source": [
    "list(map(lambda r:3.14*r**2,l2))"
   ]
  },
  {
   "cell_type": "code",
   "execution_count": null,
   "id": "47e8dd65",
   "metadata": {},
   "outputs": [],
   "source": []
  },
  {
   "cell_type": "markdown",
   "id": "58d4839e",
   "metadata": {},
   "source": [
    "# Reduce"
   ]
  },
  {
   "cell_type": "markdown",
   "id": "f4dab9a7",
   "metadata": {},
   "source": [
    "Syntax - reduce(function,data)"
   ]
  },
  {
   "cell_type": "code",
   "execution_count": 86,
   "id": "a98ee08c",
   "metadata": {},
   "outputs": [],
   "source": [
    "import functools"
   ]
  },
  {
   "cell_type": "code",
   "execution_count": 87,
   "id": "efd5eb9b",
   "metadata": {},
   "outputs": [
    {
     "data": {
      "text/plain": [
       "55"
      ]
     },
     "execution_count": 87,
     "metadata": {},
     "output_type": "execute_result"
    }
   ],
   "source": [
    "functools.reduce(lambda a,b:a+b,l1)"
   ]
  },
  {
   "cell_type": "code",
   "execution_count": 94,
   "id": "02dbcf27",
   "metadata": {},
   "outputs": [],
   "source": [
    "# find greater value from l2\n",
    "l2 = [20,21,23,24,25,26,27,28,29,30] "
   ]
  },
  {
   "cell_type": "code",
   "execution_count": 95,
   "id": "32444ece",
   "metadata": {},
   "outputs": [],
   "source": [
    "def greater(x,y):# using Tradictional method\n",
    "    if x>y:\n",
    "        return x\n",
    "    else:\n",
    "        return y"
   ]
  },
  {
   "cell_type": "code",
   "execution_count": 96,
   "id": "72d8c786",
   "metadata": {},
   "outputs": [
    {
     "data": {
      "text/plain": [
       "30"
      ]
     },
     "execution_count": 96,
     "metadata": {},
     "output_type": "execute_result"
    }
   ],
   "source": [
    "functools.reduce(greater,l2)"
   ]
  },
  {
   "cell_type": "code",
   "execution_count": 108,
   "id": "cdba3f00",
   "metadata": {},
   "outputs": [
    {
     "data": {
      "text/plain": [
       "30"
      ]
     },
     "execution_count": 108,
     "metadata": {},
     "output_type": "execute_result"
    }
   ],
   "source": [
    "functools.reduce(lambda x,y:x if x>y else y,l2) # using lambda method "
   ]
  },
  {
   "cell_type": "code",
   "execution_count": null,
   "id": "875aaac1",
   "metadata": {},
   "outputs": [],
   "source": []
  }
 ],
 "metadata": {
  "kernelspec": {
   "display_name": "Python 3 (ipykernel)",
   "language": "python",
   "name": "python3"
  },
  "language_info": {
   "codemirror_mode": {
    "name": "ipython",
    "version": 3
   },
   "file_extension": ".py",
   "mimetype": "text/x-python",
   "name": "python",
   "nbconvert_exporter": "python",
   "pygments_lexer": "ipython3",
   "version": "3.11.5"
  }
 },
 "nbformat": 4,
 "nbformat_minor": 5
}
