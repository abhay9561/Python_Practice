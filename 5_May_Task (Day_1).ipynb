{
 "cells": [
  {
   "cell_type": "markdown",
   "id": "5e7d7f5d",
   "metadata": {},
   "source": [
    "#Area of different shapes ( Day 1 H.W)\n"
   ]
  },
  {
   "cell_type": "code",
   "execution_count": 9,
   "id": "90d43553",
   "metadata": {},
   "outputs": [],
   "source": [
    "import math"
   ]
  },
  {
   "cell_type": "code",
   "execution_count": 11,
   "id": "64656297",
   "metadata": {},
   "outputs": [
    {
     "name": "stdout",
     "output_type": "stream",
     "text": [
      "78.5\n"
     ]
    }
   ],
   "source": [
    "#circle (πr^2)\n",
    "A = 3.14*5*5\n",
    "print(A)"
   ]
  },
  {
   "cell_type": "code",
   "execution_count": 25,
   "id": "db5516ff",
   "metadata": {},
   "outputs": [
    {
     "name": "stdout",
     "output_type": "stream",
     "text": [
      "Area of circle: 78.5\n"
     ]
    }
   ],
   "source": [
    "r = 5  # radius\n",
    "area = 3.14 * r * r\n",
    "print(\"Area of circle:\", area)"
   ]
  },
  {
   "cell_type": "code",
   "execution_count": 30,
   "id": "dbb444d0",
   "metadata": {},
   "outputs": [
    {
     "name": "stdout",
     "output_type": "stream",
     "text": [
      "Enter radius: 5\n",
      "Area of circle: 78.5\n"
     ]
    }
   ],
   "source": [
    "r = float(input(\"Enter radius: \"))\n",
    "area = 3.14 * r * r\n",
    "print(\"Area of circle:\", area)"
   ]
  },
  {
   "cell_type": "code",
   "execution_count": 31,
   "id": "7c7cfcce",
   "metadata": {},
   "outputs": [
    {
     "name": "stdout",
     "output_type": "stream",
     "text": [
      "78.5\n"
     ]
    }
   ],
   "source": [
    "r = 5\n",
    "Area = 3.14*r*r\n",
    "print(Area)\n"
   ]
  },
  {
   "cell_type": "code",
   "execution_count": 32,
   "id": "f7f393ab",
   "metadata": {},
   "outputs": [
    {
     "name": "stdout",
     "output_type": "stream",
     "text": [
      "100\n"
     ]
    }
   ],
   "source": [
    "#square(l*l)\n",
    "a=10\n",
    "Area = a*a\n",
    "print(Area)\n"
   ]
  },
  {
   "cell_type": "code",
   "execution_count": 33,
   "id": "b4ed69dc",
   "metadata": {},
   "outputs": [
    {
     "name": "stdout",
     "output_type": "stream",
     "text": [
      "50\n"
     ]
    }
   ],
   "source": [
    "#rectangle(L*W)\n",
    "L = 10\n",
    "W = 5\n",
    "Area = L*W\n",
    "print(Area)\n"
   ]
  },
  {
   "cell_type": "code",
   "execution_count": 34,
   "id": "159452b1",
   "metadata": {},
   "outputs": [
    {
     "name": "stdout",
     "output_type": "stream",
     "text": [
      "150.0\n"
     ]
    }
   ],
   "source": [
    "# triangle (1/2*b*h)\n",
    "b = 15\n",
    "h = 20\n",
    "Area = 1/2*b*h\n",
    "print(Area)"
   ]
  },
  {
   "cell_type": "code",
   "execution_count": 42,
   "id": "65dc6d72",
   "metadata": {},
   "outputs": [
    {
     "name": "stdout",
     "output_type": "stream",
     "text": [
      "525.0\n"
     ]
    }
   ],
   "source": [
    "# Trapezium = 1/2(a+b)*h\n",
    "a = 15\n",
    "b = 20\n",
    "h = 30\n",
    "Area = 1/2*(a+b)*30\n",
    "print(Area)"
   ]
  },
  {
   "cell_type": "code",
   "execution_count": 43,
   "id": "81ae7fac",
   "metadata": {},
   "outputs": [
    {
     "name": "stdout",
     "output_type": "stream",
     "text": [
      "157.0\n"
     ]
    }
   ],
   "source": [
    "# Ellipse = πab\n",
    "π = 3.14\n",
    "a = 5\n",
    "b = 10\n",
    "Area = π*a*b\n",
    "print(Area)\n"
   ]
  },
  {
   "cell_type": "code",
   "execution_count": 44,
   "id": "3e62d0ce",
   "metadata": {},
   "outputs": [
    {
     "name": "stdout",
     "output_type": "stream",
     "text": [
      "150.0\n"
     ]
    }
   ],
   "source": [
    "# Rhombus = 1/2*d1*d2\n",
    "d1 = 15\n",
    "d2 = 20\n",
    "Area = 1/2*d1*d2\n",
    "print(Area)"
   ]
  },
  {
   "cell_type": "code",
   "execution_count": 54,
   "id": "8ffce75d",
   "metadata": {},
   "outputs": [
    {
     "name": "stdout",
     "output_type": "stream",
     "text": [
      "Enter the value5\n",
      "Enter the number10\n",
      "Area of Rhombus: 25.0\n"
     ]
    }
   ],
   "source": [
    "# Rhombus = 1/2*d1*d2\n",
    "d1 = float(input(\"Enter the value\"))\n",
    "d2 = float(input(\"Enter the number\"))\n",
    "Area = 1/2*d1*d2\n",
    "print(\"Area of Rhombus:\",Area)"
   ]
  },
  {
   "cell_type": "code",
   "execution_count": 58,
   "id": "b93645dc",
   "metadata": {},
   "outputs": [
    {
     "name": "stdout",
     "output_type": "stream",
     "text": [
      "Enter of value of L5\n",
      "Enter of value of W10\n",
      "Area of rectangle: 50.0\n"
     ]
    }
   ],
   "source": [
    "# rectangle = L.W\n",
    "L = float(input(\"Enter of value of L\"))\n",
    "W = float(input(\"Enter of value of W\"))\n",
    "Area = L*W\n",
    "print(\"Area of rectangle:\",Area)"
   ]
  },
  {
   "cell_type": "code",
   "execution_count": 65,
   "id": "90678bf8",
   "metadata": {},
   "outputs": [
    {
     "name": "stdout",
     "output_type": "stream",
     "text": [
      "31.400000000000002\n"
     ]
    }
   ],
   "source": [
    "# Annulus (Ring) = π(R^2 - r^2)\n",
    "R = 10\n",
    "r = 5\n",
    "Area = π*(R*2 - r*2)\n",
    "print(Area)"
   ]
  },
  {
   "cell_type": "code",
   "execution_count": null,
   "id": "dd1c7b8e",
   "metadata": {},
   "outputs": [],
   "source": [
    "R = float(input(\"Enter the value of R\"))\n",
    "r = float(input(\"Enter the value of r\"))\n",
    "Area = π*(R*2 - r*2)\n",
    "print(\"Area of Annulus:\",Area)"
   ]
  },
  {
   "cell_type": "code",
   "execution_count": null,
   "id": "97f911cc",
   "metadata": {},
   "outputs": [],
   "source": []
  }
 ],
 "metadata": {
  "kernelspec": {
   "display_name": "Python 3 (ipykernel)",
   "language": "python",
   "name": "python3"
  },
  "language_info": {
   "codemirror_mode": {
    "name": "ipython",
    "version": 3
   },
   "file_extension": ".py",
   "mimetype": "text/x-python",
   "name": "python",
   "nbconvert_exporter": "python",
   "pygments_lexer": "ipython3",
   "version": "3.11.5"
  }
 },
 "nbformat": 4,
 "nbformat_minor": 5
}
