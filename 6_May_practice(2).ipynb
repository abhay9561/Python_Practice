{
 "cells": [
  {
   "cell_type": "markdown",
   "id": "874bae0a",
   "metadata": {},
   "source": [
    "NUMBER\n",
    "    \n",
    "    "
   ]
  },
  {
   "cell_type": "code",
   "execution_count": 1,
   "id": "8a2c49a3",
   "metadata": {},
   "outputs": [
    {
     "name": "stdout",
     "output_type": "stream",
     "text": [
      "enter the num2\n",
      "positive\n"
     ]
    }
   ],
   "source": [
    "num = int(input(\"enter the num\"))\n",
    "if(num>0):\n",
    "    print(\"positive\")\n",
    "elif(num==0):\n",
    "    print(\"zero\")\n",
    "else:\n",
    "    print(\"negative\")"
   ]
  },
  {
   "cell_type": "code",
   "execution_count": 2,
   "id": "26ef0981",
   "metadata": {},
   "outputs": [
    {
     "name": "stdout",
     "output_type": "stream",
     "text": [
      "enter the num-1\n",
      "negative\n"
     ]
    }
   ],
   "source": [
    "num = int(input(\"enter the num\"))\n",
    "if(num>0):\n",
    "    print(\"positive\")\n",
    "elif(num==0):\n",
    "    print(\"zero\")\n",
    "else:\n",
    "    print(\"negative\")\n",
    "    "
   ]
  },
  {
   "cell_type": "code",
   "execution_count": 3,
   "id": "71672035",
   "metadata": {},
   "outputs": [
    {
     "name": "stdout",
     "output_type": "stream",
     "text": [
      "enter the num0\n",
      "zero\n"
     ]
    }
   ],
   "source": [
    "num = int(input(\"enter the num\"))\n",
    "if(num>0):\n",
    "    print(\"positive\")\n",
    "elif(num==0):\n",
    "    print(\"zero\")\n",
    "else:\n",
    "    print(\"negative\")"
   ]
  },
  {
   "cell_type": "markdown",
   "id": "d5d262f2",
   "metadata": {},
   "source": [
    "Greater ,smaller, Equal\n",
    "\n"
   ]
  },
  {
   "cell_type": "code",
   "execution_count": 4,
   "id": "82917692",
   "metadata": {},
   "outputs": [
    {
     "name": "stdout",
     "output_type": "stream",
     "text": [
      "enter the number30\n",
      "enter the number20\n",
      "num1 is greater\n"
     ]
    }
   ],
   "source": [
    "num1 = int(input(\"enter the number\"))\n",
    "num2 = int(input(\"enter the number\"))\n",
    "if(num1>num2):\n",
    "    print(\"num1 is greater\")\n",
    "elif(num2>num1):\n",
    "    print(\"num2 is smaller\")\n",
    "else:\n",
    "        print(\"Equal\")"
   ]
  },
  {
   "cell_type": "code",
   "execution_count": 5,
   "id": "50898d7c",
   "metadata": {},
   "outputs": [
    {
     "name": "stdout",
     "output_type": "stream",
     "text": [
      "enter the number20\n",
      "enter the number30\n",
      "num2 is smaller\n"
     ]
    }
   ],
   "source": [
    "num1 = int(input(\"enter the number\"))\n",
    "num2 = int(input(\"enter the number\"))\n",
    "if(num1>num2):\n",
    "    print(\"num1 is greater\")\n",
    "elif(num2>num1):\n",
    "    print(\"num2 is smaller\")\n",
    "else:\n",
    "        print(\"Equal\")\n",
    "        "
   ]
  },
  {
   "cell_type": "code",
   "execution_count": 6,
   "id": "ba40d975",
   "metadata": {},
   "outputs": [
    {
     "name": "stdout",
     "output_type": "stream",
     "text": [
      "enter the number20\n",
      "enter the number20\n",
      "Equal\n"
     ]
    }
   ],
   "source": [
    "num1 = int(input(\"enter the number\"))\n",
    "num2 = int(input(\"enter the number\"))\n",
    "if(num1>num2):\n",
    "    print(\"num1 is greater\")\n",
    "elif(num2>num1):\n",
    "    print(\"num2 is smaller\")\n",
    "else:\n",
    "        print(\"Equal\")"
   ]
  },
  {
   "cell_type": "markdown",
   "id": "a6b049d9",
   "metadata": {},
   "source": [
    "Looping \n",
    "\n"
   ]
  },
  {
   "cell_type": "code",
   "execution_count": 7,
   "id": "7963a1f4",
   "metadata": {
    "scrolled": false
   },
   "outputs": [
    {
     "name": "stdout",
     "output_type": "stream",
     "text": [
      "Hello\n",
      "Hello\n",
      "Hello\n",
      "Hello\n",
      "Hello\n",
      "Hello\n",
      "Hello\n",
      "Hello\n",
      "Hello\n",
      "Hello\n",
      "Complete\n"
     ]
    }
   ],
   "source": [
    "i = 1\n",
    "while(i<=10):\n",
    "    print(\"Hello\")\n",
    "    i=i+1\n",
    "print(\"Complete\")"
   ]
  },
  {
   "cell_type": "code",
   "execution_count": 8,
   "id": "eb58e3f4",
   "metadata": {},
   "outputs": [
    {
     "name": "stdout",
     "output_type": "stream",
     "text": [
      "1\n",
      "2\n",
      "3\n",
      "4\n",
      "5\n",
      "6\n",
      "7\n",
      "8\n",
      "9\n",
      "10\n",
      "Complete\n"
     ]
    }
   ],
   "source": [
    "i = 1\n",
    "while(i<=10):\n",
    "    print(i)\n",
    "    i=i+1\n",
    "print(\"Complete\")"
   ]
  },
  {
   "cell_type": "code",
   "execution_count": 9,
   "id": "e476dba7",
   "metadata": {},
   "outputs": [
    {
     "name": "stdout",
     "output_type": "stream",
     "text": [
      "10\n",
      "9\n",
      "8\n",
      "7\n",
      "6\n",
      "5\n",
      "4\n",
      "3\n",
      "2\n",
      "1\n",
      "Complete\n"
     ]
    }
   ],
   "source": [
    "i = 10\n",
    "while(i>=1):\n",
    "    print(i)\n",
    "    i=i-1\n",
    "print(\"Complete\")"
   ]
  },
  {
   "cell_type": "code",
   "execution_count": 15,
   "id": "b1c99bce",
   "metadata": {},
   "outputs": [
    {
     "name": "stdout",
     "output_type": "stream",
     "text": [
      "formula\n"
     ]
    }
   ],
   "source": [
    "m=10\n",
    "n=2\n",
    "formula="
   ]
  },
  {
   "cell_type": "code",
   "execution_count": null,
   "id": "a3938d36",
   "metadata": {},
   "outputs": [],
   "source": []
  },
  {
   "cell_type": "code",
   "execution_count": null,
   "id": "42c1892e",
   "metadata": {},
   "outputs": [],
   "source": []
  },
  {
   "cell_type": "code",
   "execution_count": null,
   "id": "deb06bde",
   "metadata": {},
   "outputs": [],
   "source": []
  },
  {
   "cell_type": "code",
   "execution_count": null,
   "id": "a15d6a4e",
   "metadata": {},
   "outputs": [],
   "source": []
  },
  {
   "cell_type": "code",
   "execution_count": null,
   "id": "9fa858d8",
   "metadata": {},
   "outputs": [],
   "source": []
  },
  {
   "cell_type": "code",
   "execution_count": null,
   "id": "c6019515",
   "metadata": {},
   "outputs": [],
   "source": []
  }
 ],
 "metadata": {
  "kernelspec": {
   "display_name": "Python 3 (ipykernel)",
   "language": "python",
   "name": "python3"
  },
  "language_info": {
   "codemirror_mode": {
    "name": "ipython",
    "version": 3
   },
   "file_extension": ".py",
   "mimetype": "text/x-python",
   "name": "python",
   "nbconvert_exporter": "python",
   "pygments_lexer": "ipython3",
   "version": "3.11.5"
  }
 },
 "nbformat": 4,
 "nbformat_minor": 5
}
