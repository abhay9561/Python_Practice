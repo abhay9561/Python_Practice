{
 "cells": [
  {
   "cell_type": "markdown",
   "id": "b262e809",
   "metadata": {},
   "source": [
    "# Lambda function"
   ]
  },
  {
   "cell_type": "markdown",
   "id": "30fea965",
   "metadata": {},
   "source": [
    "syntax=> lambda arguments: expression"
   ]
  },
  {
   "cell_type": "code",
   "execution_count": 1,
   "id": "2fe0b9e5",
   "metadata": {},
   "outputs": [
    {
     "data": {
      "text/plain": [
       "8"
      ]
     },
     "execution_count": 1,
     "metadata": {},
     "output_type": "execute_result"
    }
   ],
   "source": [
    "Result = lambda a,b:a+b\n",
    "Result(5,3)"
   ]
  },
  {
   "cell_type": "code",
   "execution_count": 2,
   "id": "d15b30a5",
   "metadata": {},
   "outputs": [
    {
     "data": {
      "text/plain": [
       "30.959144000000002"
      ]
     },
     "execution_count": 2,
     "metadata": {},
     "output_type": "execute_result"
    }
   ],
   "source": [
    "Circle  = lambda r:3.14*r**2\n",
    "Circle(3.14)"
   ]
  },
  {
   "cell_type": "code",
   "execution_count": 3,
   "id": "05d71468",
   "metadata": {},
   "outputs": [
    {
     "data": {
      "text/plain": [
       "5.0"
      ]
     },
     "execution_count": 3,
     "metadata": {},
     "output_type": "execute_result"
    }
   ],
   "source": [
    "sqrt = lambda a :a**0.5\n",
    "sqrt(25)"
   ]
  },
  {
   "cell_type": "markdown",
   "id": "27b0a6b8",
   "metadata": {},
   "source": [
    "# Practice\n"
   ]
  },
  {
   "cell_type": "markdown",
   "id": "6037c3bc",
   "metadata": {},
   "source": [
    "Arthematic operation "
   ]
  },
  {
   "cell_type": "code",
   "execution_count": 24,
   "id": "e1da3df8",
   "metadata": {},
   "outputs": [
    {
     "data": {
      "text/plain": [
       "10"
      ]
     },
     "execution_count": 24,
     "metadata": {},
     "output_type": "execute_result"
    }
   ],
   "source": [
    "add = lambda n1,n2:n1+n2\n",
    "add(5,5)"
   ]
  },
  {
   "cell_type": "code",
   "execution_count": 25,
   "id": "ac02affc",
   "metadata": {},
   "outputs": [
    {
     "data": {
      "text/plain": [
       "5"
      ]
     },
     "execution_count": 25,
     "metadata": {},
     "output_type": "execute_result"
    }
   ],
   "source": [
    "sub = lambda a1,a2: a1-a2\n",
    "sub(10,5)"
   ]
  },
  {
   "cell_type": "code",
   "execution_count": 26,
   "id": "6752b46a",
   "metadata": {},
   "outputs": [
    {
     "data": {
      "text/plain": [
       "50"
      ]
     },
     "execution_count": 26,
     "metadata": {},
     "output_type": "execute_result"
    }
   ],
   "source": [
    "mul = lambda a, b : a*b\n",
    "mul(10,5)"
   ]
  },
  {
   "cell_type": "code",
   "execution_count": 27,
   "id": "2a4e9578",
   "metadata": {},
   "outputs": [
    {
     "data": {
      "text/plain": [
       "10.0"
      ]
     },
     "execution_count": 27,
     "metadata": {},
     "output_type": "execute_result"
    }
   ],
   "source": [
    "div = lambda a, b: a/b\n",
    "div(100,10)"
   ]
  },
  {
   "cell_type": "code",
   "execution_count": 28,
   "id": "0a1c2cb0",
   "metadata": {},
   "outputs": [
    {
     "data": {
      "text/plain": [
       "1"
      ]
     },
     "execution_count": 28,
     "metadata": {},
     "output_type": "execute_result"
    }
   ],
   "source": [
    "mod = lambda a, b:a%b\n",
    "mod(10,3)"
   ]
  },
  {
   "cell_type": "markdown",
   "id": "9a8f1a3d",
   "metadata": {},
   "source": [
    "AREA OF DIFFERENTS SHAPES (LAMBDA FUNCTION)"
   ]
  },
  {
   "cell_type": "code",
   "execution_count": 32,
   "id": "32aec6f2",
   "metadata": {},
   "outputs": [
    {
     "data": {
      "text/plain": [
       "78.5"
      ]
     },
     "execution_count": 32,
     "metadata": {},
     "output_type": "execute_result"
    }
   ],
   "source": [
    "circle = lambda r: 3.14*r**2\n",
    "circle(5)"
   ]
  },
  {
   "cell_type": "code",
   "execution_count": 33,
   "id": "e4f5c74b",
   "metadata": {},
   "outputs": [
    {
     "data": {
      "text/plain": [
       "150"
      ]
     },
     "execution_count": 33,
     "metadata": {},
     "output_type": "execute_result"
    }
   ],
   "source": [
    "rec = lambda l, b : l*b\n",
    "rec(15,10)"
   ]
  },
  {
   "cell_type": "code",
   "execution_count": 34,
   "id": "96a51670",
   "metadata": {},
   "outputs": [
    {
     "data": {
      "text/plain": [
       "25"
      ]
     },
     "execution_count": 34,
     "metadata": {},
     "output_type": "execute_result"
    }
   ],
   "source": [
    "sq = lambda s :s**2\n",
    "sq(5)"
   ]
  },
  {
   "cell_type": "code",
   "execution_count": 35,
   "id": "81e6a028",
   "metadata": {},
   "outputs": [
    {
     "data": {
      "text/plain": [
       "25.0"
      ]
     },
     "execution_count": 35,
     "metadata": {},
     "output_type": "execute_result"
    }
   ],
   "source": [
    "tri = lambda b,h:1/2*b*h\n",
    "tri(10,5)"
   ]
  },
  {
   "cell_type": "code",
   "execution_count": 36,
   "id": "82225b30",
   "metadata": {},
   "outputs": [
    {
     "data": {
      "text/plain": [
       "525.0"
      ]
     },
     "execution_count": 36,
     "metadata": {},
     "output_type": "execute_result"
    }
   ],
   "source": [
    "trap = lambda a,b,h : 1/2*(a+b)*h\n",
    "trap(15,20,30)"
   ]
  },
  {
   "cell_type": "code",
   "execution_count": 37,
   "id": "364918cd",
   "metadata": {},
   "outputs": [
    {
     "data": {
      "text/plain": [
       "157.0"
      ]
     },
     "execution_count": 37,
     "metadata": {},
     "output_type": "execute_result"
    }
   ],
   "source": [
    "El = lambda a,b : 3.14*a*b\n",
    "El(5,10)\n"
   ]
  },
  {
   "cell_type": "code",
   "execution_count": null,
   "id": "9a6ff9f8",
   "metadata": {},
   "outputs": [],
   "source": []
  },
  {
   "cell_type": "code",
   "execution_count": null,
   "id": "80185ad7",
   "metadata": {},
   "outputs": [],
   "source": []
  }
 ],
 "metadata": {
  "kernelspec": {
   "display_name": "Python 3 (ipykernel)",
   "language": "python",
   "name": "python3"
  },
  "language_info": {
   "codemirror_mode": {
    "name": "ipython",
    "version": 3
   },
   "file_extension": ".py",
   "mimetype": "text/x-python",
   "name": "python",
   "nbconvert_exporter": "python",
   "pygments_lexer": "ipython3",
   "version": "3.11.5"
  }
 },
 "nbformat": 4,
 "nbformat_minor": 5
}
