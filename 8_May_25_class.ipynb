{
 "cells": [
  {
   "cell_type": "markdown",
   "id": "73ac9117",
   "metadata": {},
   "source": [
    "# Data Type in python\n"
   ]
  },
  {
   "cell_type": "markdown",
   "id": "59827938",
   "metadata": {},
   "source": [
    "#Collection in python\n",
    "1) list\n",
    "2) tuple\n",
    "3) sets\n",
    "4) Dictionary\n",
    "5) Array\n",
    "6) String\n",
    "7) Series\n",
    "8) Dataframe"
   ]
  },
  {
   "cell_type": "code",
   "execution_count": 9,
   "id": "843f41fe",
   "metadata": {},
   "outputs": [],
   "source": [
    "l1 =[]"
   ]
  },
  {
   "cell_type": "code",
   "execution_count": 10,
   "id": "1a709db0",
   "metadata": {},
   "outputs": [],
   "source": [
    "l2 = list()"
   ]
  },
  {
   "cell_type": "code",
   "execution_count": 11,
   "id": "b8c1ed95",
   "metadata": {},
   "outputs": [
    {
     "name": "stdout",
     "output_type": "stream",
     "text": [
      "<class 'list'>\n"
     ]
    }
   ],
   "source": [
    "#Accessing the index\n",
    "l3 = [10,20,30,40,50,60,70]\n",
    "print(type(l3))"
   ]
  },
  {
   "cell_type": "code",
   "execution_count": 12,
   "id": "03af3910",
   "metadata": {},
   "outputs": [
    {
     "data": {
      "text/plain": [
       "30"
      ]
     },
     "execution_count": 12,
     "metadata": {},
     "output_type": "execute_result"
    }
   ],
   "source": [
    "l3[2]"
   ]
  },
  {
   "cell_type": "code",
   "execution_count": 13,
   "id": "81bc7c30",
   "metadata": {},
   "outputs": [
    {
     "data": {
      "text/plain": [
       "60"
      ]
     },
     "execution_count": 13,
     "metadata": {},
     "output_type": "execute_result"
    }
   ],
   "source": [
    "l3[5]"
   ]
  },
  {
   "cell_type": "code",
   "execution_count": 14,
   "id": "128fe4d9",
   "metadata": {},
   "outputs": [
    {
     "data": {
      "text/plain": [
       "70"
      ]
     },
     "execution_count": 14,
     "metadata": {},
     "output_type": "execute_result"
    }
   ],
   "source": [
    "l3[-1]"
   ]
  },
  {
   "cell_type": "code",
   "execution_count": 15,
   "id": "a9381bdc",
   "metadata": {},
   "outputs": [
    {
     "data": {
      "text/plain": [
       "10"
      ]
     },
     "execution_count": 15,
     "metadata": {},
     "output_type": "execute_result"
    }
   ],
   "source": [
    "l3[0]"
   ]
  },
  {
   "cell_type": "code",
   "execution_count": 16,
   "id": "c9434e85",
   "metadata": {},
   "outputs": [
    {
     "data": {
      "text/plain": [
       "[20, 30, 40, 50]"
      ]
     },
     "execution_count": 16,
     "metadata": {},
     "output_type": "execute_result"
    }
   ],
   "source": [
    "l3[1:5:1]  # its work like range function"
   ]
  },
  {
   "cell_type": "code",
   "execution_count": 17,
   "id": "8bcd390b",
   "metadata": {},
   "outputs": [
    {
     "data": {
      "text/plain": [
       "[20, 40]"
      ]
     },
     "execution_count": 17,
     "metadata": {},
     "output_type": "execute_result"
    }
   ],
   "source": [
    "l3[1:5:2]"
   ]
  },
  {
   "cell_type": "code",
   "execution_count": 18,
   "id": "e25c8dd0",
   "metadata": {},
   "outputs": [
    {
     "data": {
      "text/plain": [
       "[10, 20, 30, 40, 50]"
      ]
     },
     "execution_count": 18,
     "metadata": {},
     "output_type": "execute_result"
    }
   ],
   "source": [
    "l3[:5:]"
   ]
  },
  {
   "cell_type": "code",
   "execution_count": 19,
   "id": "dfc01422",
   "metadata": {},
   "outputs": [
    {
     "data": {
      "text/plain": [
       "[10, 20, 30, 40, 50, 60, 70]"
      ]
     },
     "execution_count": 19,
     "metadata": {},
     "output_type": "execute_result"
    }
   ],
   "source": [
    "l3[::]"
   ]
  },
  {
   "cell_type": "code",
   "execution_count": 20,
   "id": "a20b5310",
   "metadata": {},
   "outputs": [
    {
     "data": {
      "text/plain": [
       "[10, 30, 50, 70]"
      ]
     },
     "execution_count": 20,
     "metadata": {},
     "output_type": "execute_result"
    }
   ],
   "source": [
    "l3[::2]"
   ]
  },
  {
   "cell_type": "code",
   "execution_count": 21,
   "id": "472e7727",
   "metadata": {},
   "outputs": [
    {
     "data": {
      "text/plain": [
       "[]"
      ]
     },
     "execution_count": 21,
     "metadata": {},
     "output_type": "execute_result"
    }
   ],
   "source": [
    "l3[1:-7:2]"
   ]
  },
  {
   "cell_type": "code",
   "execution_count": 22,
   "id": "0095423b",
   "metadata": {},
   "outputs": [
    {
     "data": {
      "text/plain": [
       "[20]"
      ]
     },
     "execution_count": 22,
     "metadata": {},
     "output_type": "execute_result"
    }
   ],
   "source": [
    "l3[1:-7:-2]"
   ]
  },
  {
   "cell_type": "code",
   "execution_count": 23,
   "id": "c112554c",
   "metadata": {},
   "outputs": [
    {
     "data": {
      "text/plain": [
       "[]"
      ]
     },
     "execution_count": 23,
     "metadata": {},
     "output_type": "execute_result"
    }
   ],
   "source": [
    "l3[1:7:-2]"
   ]
  },
  {
   "cell_type": "code",
   "execution_count": 24,
   "id": "b1f119c9",
   "metadata": {},
   "outputs": [
    {
     "data": {
      "text/plain": [
       "[]"
      ]
     },
     "execution_count": 24,
     "metadata": {},
     "output_type": "execute_result"
    }
   ],
   "source": [
    "l3[10:7:-2]"
   ]
  },
  {
   "cell_type": "code",
   "execution_count": 25,
   "id": "e4012719",
   "metadata": {},
   "outputs": [
    {
     "data": {
      "text/plain": [
       "[]"
      ]
     },
     "execution_count": 25,
     "metadata": {},
     "output_type": "execute_result"
    }
   ],
   "source": [
    "l3[-10:-7:-2]"
   ]
  },
  {
   "cell_type": "code",
   "execution_count": 26,
   "id": "f46426bd",
   "metadata": {},
   "outputs": [
    {
     "data": {
      "text/plain": [
       "[10, 20, 30, 40, 50, 60]"
      ]
     },
     "execution_count": 26,
     "metadata": {},
     "output_type": "execute_result"
    }
   ],
   "source": [
    "l3[:6]"
   ]
  },
  {
   "cell_type": "code",
   "execution_count": 27,
   "id": "38957410",
   "metadata": {},
   "outputs": [
    {
     "data": {
      "text/plain": [
       "[70, 60, 50, 40, 30, 20, 10]"
      ]
     },
     "execution_count": 27,
     "metadata": {},
     "output_type": "execute_result"
    }
   ],
   "source": [
    "l3[::-1]"
   ]
  },
  {
   "cell_type": "code",
   "execution_count": 28,
   "id": "a5563bcb",
   "metadata": {},
   "outputs": [],
   "source": [
    "l3.append(6)"
   ]
  },
  {
   "cell_type": "code",
   "execution_count": 29,
   "id": "22a024e7",
   "metadata": {},
   "outputs": [
    {
     "data": {
      "text/plain": [
       "[10, 20, 30, 40, 50, 60, 70, 6]"
      ]
     },
     "execution_count": 29,
     "metadata": {},
     "output_type": "execute_result"
    }
   ],
   "source": [
    "l3"
   ]
  },
  {
   "cell_type": "code",
   "execution_count": 30,
   "id": "b7157ab1",
   "metadata": {},
   "outputs": [
    {
     "ename": "TypeError",
     "evalue": "list.append() takes exactly one argument (2 given)",
     "output_type": "error",
     "traceback": [
      "\u001b[1;31m---------------------------------------------------------------------------\u001b[0m",
      "\u001b[1;31mTypeError\u001b[0m                                 Traceback (most recent call last)",
      "Cell \u001b[1;32mIn[30], line 1\u001b[0m\n\u001b[1;32m----> 1\u001b[0m l3\u001b[38;5;241m.\u001b[39mappend(\u001b[38;5;241m3\u001b[39m,\u001b[38;5;241m4\u001b[39m)\n",
      "\u001b[1;31mTypeError\u001b[0m: list.append() takes exactly one argument (2 given)"
     ]
    }
   ],
   "source": [
    "l3.append(3,4) #Error (it cant take two values)"
   ]
  },
  {
   "cell_type": "code",
   "execution_count": 31,
   "id": "db0fb220",
   "metadata": {},
   "outputs": [
    {
     "data": {
      "text/plain": [
       "[10, 20, 30, 40, 50, 60, 70, 6, [6, 7]]"
      ]
     },
     "execution_count": 31,
     "metadata": {},
     "output_type": "execute_result"
    }
   ],
   "source": [
    "l3.append([6,7])\n",
    "l3"
   ]
  },
  {
   "cell_type": "code",
   "execution_count": 32,
   "id": "c0801740",
   "metadata": {},
   "outputs": [],
   "source": [
    "l3.insert(4, \"Abhay\")"
   ]
  },
  {
   "cell_type": "code",
   "execution_count": 33,
   "id": "a4cd15b3",
   "metadata": {},
   "outputs": [
    {
     "data": {
      "text/plain": [
       "[10, 20, 30, 40, 'Abhay', 50, 60, 70, 6, [6, 7]]"
      ]
     },
     "execution_count": 33,
     "metadata": {},
     "output_type": "execute_result"
    }
   ],
   "source": [
    "l3"
   ]
  },
  {
   "cell_type": "code",
   "execution_count": 38,
   "id": "8bdf8aeb",
   "metadata": {},
   "outputs": [],
   "source": [
    "l3.extend([1,3,7,9])\n"
   ]
  },
  {
   "cell_type": "code",
   "execution_count": 39,
   "id": "19af5d61",
   "metadata": {},
   "outputs": [],
   "source": [
    "l3.extend([1, 2, 3, 4, 5, \"abhay\"])"
   ]
  },
  {
   "cell_type": "code",
   "execution_count": 41,
   "id": "4ba84706",
   "metadata": {},
   "outputs": [
    {
     "data": {
      "text/plain": [
       "[10,\n",
       " 20,\n",
       " 30,\n",
       " 40,\n",
       " 50,\n",
       " 60,\n",
       " 70,\n",
       " 6,\n",
       " [6, 7],\n",
       " 1,\n",
       " 3,\n",
       " 7,\n",
       " 1,\n",
       " 2,\n",
       " 3,\n",
       " 4,\n",
       " 5,\n",
       " 'abhay',\n",
       " 1,\n",
       " 3,\n",
       " 7,\n",
       " 9,\n",
       " 1,\n",
       " 2,\n",
       " 3,\n",
       " 4,\n",
       " 5]"
      ]
     },
     "execution_count": 41,
     "metadata": {},
     "output_type": "execute_result"
    }
   ],
   "source": [
    "l3"
   ]
  },
  {
   "cell_type": "code",
   "execution_count": 46,
   "id": "9750c8bf",
   "metadata": {},
   "outputs": [
    {
     "data": {
      "text/plain": [
       "4"
      ]
     },
     "execution_count": 46,
     "metadata": {},
     "output_type": "execute_result"
    }
   ],
   "source": [
    "l3.pop()"
   ]
  },
  {
   "cell_type": "code",
   "execution_count": 47,
   "id": "2c9dced0",
   "metadata": {},
   "outputs": [
    {
     "data": {
      "text/plain": [
       "70"
      ]
     },
     "execution_count": 47,
     "metadata": {},
     "output_type": "execute_result"
    }
   ],
   "source": [
    "l3.pop(4)"
   ]
  },
  {
   "cell_type": "code",
   "execution_count": 56,
   "id": "e39291a4",
   "metadata": {},
   "outputs": [],
   "source": [
    "l3.remove(10) #deleting by element"
   ]
  },
  {
   "cell_type": "code",
   "execution_count": 57,
   "id": "ec223111",
   "metadata": {},
   "outputs": [
    {
     "data": {
      "text/plain": [
       "[20, 30, 40, [6, 7], 1, 3, 7, 1, 2, 3, 4, 5, 'abhay', 1, 3, 7, 9, 1, 2, 3]"
      ]
     },
     "execution_count": 57,
     "metadata": {},
     "output_type": "execute_result"
    }
   ],
   "source": [
    "l3"
   ]
  },
  {
   "cell_type": "code",
   "execution_count": 58,
   "id": "f385937c",
   "metadata": {},
   "outputs": [],
   "source": [
    "l3[4]=88"
   ]
  },
  {
   "cell_type": "code",
   "execution_count": 59,
   "id": "e4995bfd",
   "metadata": {},
   "outputs": [
    {
     "data": {
      "text/plain": [
       "20"
      ]
     },
     "execution_count": 59,
     "metadata": {},
     "output_type": "execute_result"
    }
   ],
   "source": [
    "len(l3)"
   ]
  },
  {
   "cell_type": "code",
   "execution_count": 60,
   "id": "8563633f",
   "metadata": {},
   "outputs": [
    {
     "data": {
      "text/plain": [
       "True"
      ]
     },
     "execution_count": 60,
     "metadata": {},
     "output_type": "execute_result"
    }
   ],
   "source": [
    "88 in l3"
   ]
  },
  {
   "cell_type": "code",
   "execution_count": 61,
   "id": "859c45f1",
   "metadata": {},
   "outputs": [
    {
     "data": {
      "text/plain": [
       "False"
      ]
     },
     "execution_count": 61,
     "metadata": {},
     "output_type": "execute_result"
    }
   ],
   "source": [
    "88 not in l3"
   ]
  },
  {
   "cell_type": "code",
   "execution_count": 62,
   "id": "51ff3105",
   "metadata": {},
   "outputs": [
    {
     "data": {
      "text/plain": [
       "[1, 2, 3, 4, 5, 6, 7, 8, 9, 10]"
      ]
     },
     "execution_count": 62,
     "metadata": {},
     "output_type": "execute_result"
    }
   ],
   "source": [
    "l1=[1,2,3,4,5]\n",
    "l2=[6,7,8,9,10]\n",
    "l1+l2\n"
   ]
  },
  {
   "cell_type": "code",
   "execution_count": 65,
   "id": "cb6512d3",
   "metadata": {},
   "outputs": [],
   "source": [
    "l1=[1,2,3,4,5]\n",
    "l3=[6,7,8,9,10]\n",
    "l4=l1+l3"
   ]
  },
  {
   "cell_type": "code",
   "execution_count": 66,
   "id": "ffc2d025",
   "metadata": {},
   "outputs": [
    {
     "data": {
      "text/plain": [
       "[1, 2, 3, 4, 5, 6, 7, 8, 9, 10]"
      ]
     },
     "execution_count": 66,
     "metadata": {},
     "output_type": "execute_result"
    }
   ],
   "source": [
    "l4"
   ]
  },
  {
   "cell_type": "code",
   "execution_count": 67,
   "id": "17e303f7",
   "metadata": {},
   "outputs": [
    {
     "data": {
      "text/plain": [
       "[6, 7, 8, 9, 10, 6, 7, 8, 9, 10, 6, 7, 8, 9, 10]"
      ]
     },
     "execution_count": 67,
     "metadata": {},
     "output_type": "execute_result"
    }
   ],
   "source": [
    "l1=[1,2,3,4,5]\n",
    "l3=[6,7,8,9,10]\n",
    "l3*3"
   ]
  },
  {
   "cell_type": "code",
   "execution_count": 72,
   "id": "47d6d26e",
   "metadata": {},
   "outputs": [
    {
     "data": {
      "text/plain": [
       "True"
      ]
     },
     "execution_count": 72,
     "metadata": {},
     "output_type": "execute_result"
    }
   ],
   "source": [
    "l1 = [1,2,3,4,5,0]\n",
    "l2 = [6,7,8,9,10]\n",
    "any(l2)"
   ]
  },
  {
   "cell_type": "code",
   "execution_count": 73,
   "id": "b5bdcc33",
   "metadata": {},
   "outputs": [
    {
     "data": {
      "text/plain": [
       "True"
      ]
     },
     "execution_count": 73,
     "metadata": {},
     "output_type": "execute_result"
    }
   ],
   "source": [
    "l1 = [1,2,3,4,5,0]\n",
    "l2 = [6,7,8,9,10]\n",
    "any(l1)"
   ]
  },
  {
   "cell_type": "code",
   "execution_count": null,
   "id": "76bff6f1",
   "metadata": {},
   "outputs": [],
   "source": []
  },
  {
   "cell_type": "code",
   "execution_count": null,
   "id": "8d6e69e6",
   "metadata": {},
   "outputs": [],
   "source": []
  },
  {
   "cell_type": "code",
   "execution_count": null,
   "id": "735f8ae6",
   "metadata": {},
   "outputs": [],
   "source": []
  },
  {
   "cell_type": "code",
   "execution_count": null,
   "id": "b707c474",
   "metadata": {},
   "outputs": [],
   "source": []
  },
  {
   "cell_type": "code",
   "execution_count": null,
   "id": "da8c1ff6",
   "metadata": {},
   "outputs": [],
   "source": []
  },
  {
   "cell_type": "code",
   "execution_count": null,
   "id": "5de8fa9f",
   "metadata": {},
   "outputs": [],
   "source": []
  },
  {
   "cell_type": "code",
   "execution_count": 74,
   "id": "58ef1e18",
   "metadata": {},
   "outputs": [
    {
     "name": "stdout",
     "output_type": "stream",
     "text": [
      "55\n",
      "30\n",
      "25\n"
     ]
    }
   ],
   "source": [
    "list1 = [1, 2, 3, 4, 5, 6, 7, 8, 9, 10]\n",
    "total = 0\n",
    "eventotal = 0\n",
    "oddtotal = 0\n",
    "\n",
    "for i in list1:\n",
    "    if i%2==0:\n",
    "        eventotal += i\n",
    "    else:\n",
    "        oddtotal += i\n",
    "    total += i\n",
    "    \n",
    "print(total)\n",
    "print(eventotal)\n",
    "print(oddtotal)\n",
    "  "
   ]
  },
  {
   "cell_type": "code",
   "execution_count": 75,
   "id": "f79459c0",
   "metadata": {},
   "outputs": [
    {
     "name": "stdout",
     "output_type": "stream",
     "text": [
      "0\n",
      "15\n",
      "-15\n"
     ]
    }
   ],
   "source": [
    "list2 = [1, 2, 3, 4, 5, -5, -4, -3, -2, -1]\n",
    "total = 0\n",
    "postotal = 0\n",
    "negtotal = 0\n",
    "\n",
    "for i in list2:\n",
    "    if i>0:\n",
    "        postotal += i\n",
    "    else:\n",
    "        negtotal += i\n",
    "    total += i\n",
    "print(total)\n",
    "print(postotal)\n",
    "print(negtotal)"
   ]
  },
  {
   "cell_type": "code",
   "execution_count": 77,
   "id": "8489be7c",
   "metadata": {},
   "outputs": [
    {
     "name": "stdout",
     "output_type": "stream",
     "text": [
      "550\n",
      "550\n",
      "0\n"
     ]
    }
   ],
   "source": [
    "#write a program to generate list of prime numbers from 1 to 100\n",
    "list = [10, 20, 30, 40, 50, 60, 70, 80, 90, 100]\n",
    "total = 0\n",
    "eventotal = 0\n",
    "oddtotal = 0\n",
    "for i in list:\n",
    "    if i%2==0:\n",
    "        eventotal += i\n",
    "    else:\n",
    "        oddtotal += i\n",
    "    total += i\n",
    "print(total)\n",
    "print(eventotal)\n",
    "print(oddtotal)"
   ]
  },
  {
   "cell_type": "code",
   "execution_count": null,
   "id": "116836af",
   "metadata": {},
   "outputs": [],
   "source": []
  }
 ],
 "metadata": {
  "kernelspec": {
   "display_name": "Python 3 (ipykernel)",
   "language": "python",
   "name": "python3"
  },
  "language_info": {
   "codemirror_mode": {
    "name": "ipython",
    "version": 3
   },
   "file_extension": ".py",
   "mimetype": "text/x-python",
   "name": "python",
   "nbconvert_exporter": "python",
   "pygments_lexer": "ipython3",
   "version": "3.11.5"
  }
 },
 "nbformat": 4,
 "nbformat_minor": 5
}
