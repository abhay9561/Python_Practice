{
 "cells": [
  {
   "cell_type": "code",
   "execution_count": 1,
   "id": "c1a92149",
   "metadata": {},
   "outputs": [
    {
     "name": "stdout",
     "output_type": "stream",
     "text": [
      "Area of rectangle:  130\n"
     ]
    }
   ],
   "source": [
    "# rectangle\n",
    "length = 10\n",
    "breadth = 13\n",
    "Area = length * breadth\n",
    "print(\"Area of rectangle: \", Area)"
   ]
  },
  {
   "cell_type": "code",
   "execution_count": 2,
   "id": "ca97c487",
   "metadata": {},
   "outputs": [
    {
     "name": "stdout",
     "output_type": "stream",
     "text": [
      "Enter the length10\n",
      "Enter the breadth13\n",
      "Area of rectangle:  130.0\n"
     ]
    }
   ],
   "source": [
    "length = float(input(\"Enter the length\"))\n",
    "breadth =float( input(\"Enter the breadth\"))\n",
    "Area = length * breadth\n",
    "print(\"Area of rectangle: \", Area)"
   ]
  },
  {
   "cell_type": "code",
   "execution_count": 3,
   "id": "0ca8d2f4",
   "metadata": {},
   "outputs": [
    {
     "name": "stdout",
     "output_type": "stream",
     "text": [
      "Area of circle: 153.86\n"
     ]
    }
   ],
   "source": [
    "# circle\n",
    "r = 7\n",
    "Area  = 3.14 *r*r\n",
    "print(\"Area of circle:\", Area)"
   ]
  },
  {
   "cell_type": "code",
   "execution_count": 4,
   "id": "65a28cef",
   "metadata": {},
   "outputs": [
    {
     "name": "stdout",
     "output_type": "stream",
     "text": [
      "Enter radius7\n",
      "Area of circle: 153.86\n"
     ]
    }
   ],
   "source": [
    "r = int(input(\"Enter radius\"))\n",
    "Area = 3.14*r*r\n",
    "print(\"Area of circle:\", Area)"
   ]
  },
  {
   "cell_type": "code",
   "execution_count": 8,
   "id": "b592f397",
   "metadata": {},
   "outputs": [
    {
     "name": "stdout",
     "output_type": "stream",
     "text": [
      "60.0\n"
     ]
    }
   ],
   "source": [
    "#Triangle\n",
    "base = 10\n",
    "height = 12\n",
    "Area = 0.5*base * height\n",
    "print (Area)"
   ]
  },
  {
   "cell_type": "code",
   "execution_count": 12,
   "id": "9de7aa83",
   "metadata": {},
   "outputs": [
    {
     "name": "stdout",
     "output_type": "stream",
     "text": [
      "Enter base10\n",
      "Enter height12\n",
      "Area of triangle: 60.0\n"
     ]
    }
   ],
   "source": [
    "base  = int(input(\"Enter base\"))\n",
    "height = int(input(\"Enter height\"))\n",
    "Area = 0.5*base*height\n",
    "print(\"Area of triangle:\", Area)"
   ]
  },
  {
   "cell_type": "code",
   "execution_count": 15,
   "id": "1f4dd5f3",
   "metadata": {},
   "outputs": [
    {
     "name": "stdout",
     "output_type": "stream",
     "text": [
      "Area of square: 25\n"
     ]
    }
   ],
   "source": [
    "#square\n",
    "a = 5\n",
    "Area = a*a\n",
    "print(\"Area of square:\",Area)"
   ]
  },
  {
   "cell_type": "code",
   "execution_count": 18,
   "id": "8f6dbdb4",
   "metadata": {},
   "outputs": [
    {
     "name": "stdout",
     "output_type": "stream",
     "text": [
      "Enter value of a5\n",
      "Area of circle: 25\n"
     ]
    }
   ],
   "source": [
    "a = int(input(\"Enter value of a\"))\n",
    "Area = a*a\n",
    "print(\"Area of circle:\",Area)"
   ]
  },
  {
   "cell_type": "code",
   "execution_count": 20,
   "id": "421c8eb7",
   "metadata": {},
   "outputs": [
    {
     "name": "stdout",
     "output_type": "stream",
     "text": [
      "Enter value of a5.5\n",
      "Area of circle: 30.25\n"
     ]
    }
   ],
   "source": [
    "a = float(input(\"Enter value of a\"))\n",
    "Area = a*a\n",
    "print(\"Area of circle:\",Area)"
   ]
  },
  {
   "cell_type": "code",
   "execution_count": 22,
   "id": "7c8a747b",
   "metadata": {},
   "outputs": [
    {
     "name": "stdout",
     "output_type": "stream",
     "text": [
      "Area of trapazium: 55.0\n"
     ]
    }
   ],
   "source": [
    "#Trapazium\n",
    "a = 10\n",
    "b = 12\n",
    "h = 5\n",
    "Area = 0.5  * (a+b) * h\n",
    "print(\"Area of trapazium:\",Area)"
   ]
  },
  {
   "cell_type": "code",
   "execution_count": 23,
   "id": "4a3fd56b",
   "metadata": {},
   "outputs": [
    {
     "name": "stdout",
     "output_type": "stream",
     "text": [
      "Enter base 1 a10\n",
      "Enter base 2 b12\n",
      "Enter  height h5\n",
      "Area of trapazium: 55.0\n"
     ]
    }
   ],
   "source": [
    "a = int(input(\"Enter base 1 a\"))\n",
    "b = int(input(\"Enter base 2 b\"))\n",
    "h = float(input(\"Enter  height h\"))\n",
    "Area = 0.5*(a+b)*h\n",
    "print(\"Area of trapazium:\",Area)"
   ]
  },
  {
   "cell_type": "code",
   "execution_count": 34,
   "id": "11a1ca7f",
   "metadata": {},
   "outputs": [
    {
     "name": "stdout",
     "output_type": "stream",
     "text": [
      "Enter age19\n",
      "Eligable for vote\n"
     ]
    }
   ],
   "source": [
    "#if else\n",
    "Age = int(input(\"Enter age\"))\n",
    "if (Age>18):\n",
    "    print(\"Eligable for vote\")\n",
    "elif(Age<18):\n",
    "        print(\"Not Eligible for vote\")\n",
    "else:\n",
    "        print(\"normal\")"
   ]
  },
  {
   "cell_type": "code",
   "execution_count": 41,
   "id": "96ef91a4",
   "metadata": {},
   "outputs": [
    {
     "name": "stdout",
     "output_type": "stream",
     "text": [
      "Enter the number-9\n",
      "negative\n"
     ]
    }
   ],
   "source": [
    "number = float(input(\"Enter the number\"))\n",
    "if (number>0):\n",
    "    print(\"positive\")\n",
    "elif(number==0):\n",
    "    print(\"zero\")\n",
    "else:\n",
    "    print(\"negative\")\n",
    "    "
   ]
  },
  {
   "cell_type": "code",
   "execution_count": null,
   "id": "b28b957e",
   "metadata": {},
   "outputs": [],
   "source": []
  }
 ],
 "metadata": {
  "kernelspec": {
   "display_name": "Python 3 (ipykernel)",
   "language": "python",
   "name": "python3"
  },
  "language_info": {
   "codemirror_mode": {
    "name": "ipython",
    "version": 3
   },
   "file_extension": ".py",
   "mimetype": "text/x-python",
   "name": "python",
   "nbconvert_exporter": "python",
   "pygments_lexer": "ipython3",
   "version": "3.11.5"
  }
 },
 "nbformat": 4,
 "nbformat_minor": 5
}
