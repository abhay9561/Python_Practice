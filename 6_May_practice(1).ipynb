{
 "cells": [
  {
   "cell_type": "markdown",
   "id": "2928063d",
   "metadata": {},
   "source": [
    "Control Statement "
   ]
  },
  {
   "cell_type": "code",
   "execution_count": 1,
   "id": "0c6a811b",
   "metadata": {},
   "outputs": [
    {
     "name": "stdout",
     "output_type": "stream",
     "text": [
      "Hello\n",
      "num1 is greater\n"
     ]
    }
   ],
   "source": [
    "num1 = 50\n",
    "num2 = 30\n",
    "if(num1>num2):\n",
    "    print(\"Hello\")\n",
    "    print(\"num1 is greater\")\n",
    "    "
   ]
  },
  {
   "cell_type": "code",
   "execution_count": 2,
   "id": "433d97d0",
   "metadata": {},
   "outputs": [
    {
     "name": "stdout",
     "output_type": "stream",
     "text": [
      "num2 is greater\n"
     ]
    }
   ],
   "source": [
    "num1 = 20\n",
    "num2 = 30\n",
    "if(num1>num2):\n",
    "    print(\"Hello\")\n",
    "    print(\"num1 is greater\")\n",
    "elif(num2>num1):\n",
    "    print(\"num2 is greater\")\n",
    "    "
   ]
  },
  {
   "cell_type": "code",
   "execution_count": 4,
   "id": "e0d5e47a",
   "metadata": {},
   "outputs": [
    {
     "name": "stdout",
     "output_type": "stream",
     "text": [
      "Hello\n",
      "num1 is greater\n"
     ]
    }
   ],
   "source": [
    "num1 = 50\n",
    "num2 = 30\n",
    "if(num1>num2):\n",
    "    print(\"Hello\")\n",
    "    print(\"num1 is greater\")\n",
    "elif(num2>num1):\n",
    "    print(\"num2 is greater\")\n",
    "else:\n",
    "    print(\"equal\")\n",
    "    print(\"by\")"
   ]
  },
  {
   "cell_type": "code",
   "execution_count": 5,
   "id": "ebd5cd05",
   "metadata": {},
   "outputs": [
    {
     "name": "stdout",
     "output_type": "stream",
     "text": [
      "enter the number30\n",
      "enter the number20\n",
      "Correct\n"
     ]
    }
   ],
   "source": [
    "num1 = int(input(\"enter the number\"))\n",
    "num2 = int(input(\"enter the number\"))\n",
    "if(num1>num2):\n",
    "    print(\"Correct\")\n",
    "elif(num2>num1):\n",
    "    print(\"wrong\")"
   ]
  },
  {
   "cell_type": "code",
   "execution_count": 12,
   "id": "ade0bca2",
   "metadata": {},
   "outputs": [
    {
     "name": "stdout",
     "output_type": "stream",
     "text": [
      "enter the number-5\n",
      "negative\n"
     ]
    }
   ],
   "source": [
    "number = float(input(\"enter the number\"))\n",
    "if(number>0):\n",
    "    print(\"positive\")\n",
    "elif(number==0):\n",
    "    print(\"zero\")\n",
    "else:\n",
    "    print(\"negative\")"
   ]
  },
  {
   "cell_type": "code",
   "execution_count": null,
   "id": "c4e794a4",
   "metadata": {},
   "outputs": [],
   "source": []
  }
 ],
 "metadata": {
  "kernelspec": {
   "display_name": "Python 3 (ipykernel)",
   "language": "python",
   "name": "python3"
  },
  "language_info": {
   "codemirror_mode": {
    "name": "ipython",
    "version": 3
   },
   "file_extension": ".py",
   "mimetype": "text/x-python",
   "name": "python",
   "nbconvert_exporter": "python",
   "pygments_lexer": "ipython3",
   "version": "3.11.5"
  }
 },
 "nbformat": 4,
 "nbformat_minor": 5
}
