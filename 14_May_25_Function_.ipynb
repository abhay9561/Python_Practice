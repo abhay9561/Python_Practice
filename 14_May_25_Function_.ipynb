{
 "cells": [
  {
   "cell_type": "markdown",
   "id": "48495354",
   "metadata": {},
   "source": [
    "# len() function:"
   ]
  },
  {
   "cell_type": "markdown",
   "id": "c58eb743",
   "metadata": {},
   "source": [
    "The len() function returns the number of items in an object.\n",
    "\n",
    "When the object is a string, the len() function returns the number of characters in the string."
   ]
  },
  {
   "cell_type": "code",
   "execution_count": 19,
   "id": "efbc3291",
   "metadata": {},
   "outputs": [],
   "source": [
    "l1=[1,2,3,4,5,6,7]"
   ]
  },
  {
   "cell_type": "code",
   "execution_count": 20,
   "id": "ddf224f6",
   "metadata": {},
   "outputs": [],
   "source": [
    "def mylen(data):\n",
    "    c=0\n",
    "    for i in data:\n",
    "        c+=1\n",
    "    return c"
   ]
  },
  {
   "cell_type": "code",
   "execution_count": 21,
   "id": "91528051",
   "metadata": {},
   "outputs": [
    {
     "data": {
      "text/plain": [
       "7"
      ]
     },
     "execution_count": 21,
     "metadata": {},
     "output_type": "execute_result"
    }
   ],
   "source": [
    "mylen(l1)"
   ]
  },
  {
   "cell_type": "code",
   "execution_count": 22,
   "id": "4013a4e8",
   "metadata": {},
   "outputs": [
    {
     "data": {
      "text/plain": [
       "9"
      ]
     },
     "execution_count": 22,
     "metadata": {},
     "output_type": "execute_result"
    }
   ],
   "source": [
    "mylen(\"Datamites\")"
   ]
  },
  {
   "cell_type": "code",
   "execution_count": 25,
   "id": "cd5818a8",
   "metadata": {},
   "outputs": [],
   "source": [
    "#show() function\n",
    "def show(a,*b):\n",
    "    print(a)\n",
    "    print(b)"
   ]
  },
  {
   "cell_type": "code",
   "execution_count": 26,
   "id": "af2151d2",
   "metadata": {},
   "outputs": [
    {
     "name": "stdout",
     "output_type": "stream",
     "text": [
      "10\n",
      "(20, 30, 40, 50, 60)\n"
     ]
    }
   ],
   "source": [
    "show(10,20,30,40,50,60)"
   ]
  },
  {
   "cell_type": "markdown",
   "id": "fc34a364",
   "metadata": {},
   "source": [
    "Practice len() function \n"
   ]
  },
  {
   "cell_type": "code",
   "execution_count": 24,
   "id": "739828ee",
   "metadata": {},
   "outputs": [],
   "source": [
    "l2=[1,2,3,4,5,6,7,8,8,9]"
   ]
  },
  {
   "cell_type": "code",
   "execution_count": 25,
   "id": "b038ff1f",
   "metadata": {},
   "outputs": [
    {
     "name": "stdout",
     "output_type": "stream",
     "text": [
      "10\n"
     ]
    }
   ],
   "source": [
    "print (len(l2))\n"
   ]
  },
  {
   "cell_type": "code",
   "execution_count": 26,
   "id": "068059cc",
   "metadata": {},
   "outputs": [],
   "source": [
    "t = (1,2,44,56,776,44)"
   ]
  },
  {
   "cell_type": "code",
   "execution_count": 27,
   "id": "f2ad4b88",
   "metadata": {},
   "outputs": [
    {
     "name": "stdout",
     "output_type": "stream",
     "text": [
      "6\n"
     ]
    }
   ],
   "source": [
    "print(len(t))"
   ]
  },
  {
   "cell_type": "code",
   "execution_count": 28,
   "id": "12cb1ead",
   "metadata": {},
   "outputs": [],
   "source": [
    "s = (\"hello\")"
   ]
  },
  {
   "cell_type": "code",
   "execution_count": 29,
   "id": "9b1669af",
   "metadata": {},
   "outputs": [
    {
     "name": "stdout",
     "output_type": "stream",
     "text": [
      "5\n"
     ]
    }
   ],
   "source": [
    "print(len(s))"
   ]
  },
  {
   "cell_type": "code",
   "execution_count": 30,
   "id": "544f86af",
   "metadata": {},
   "outputs": [],
   "source": [
    "d = {1,3,'abhay',4.3}"
   ]
  },
  {
   "cell_type": "code",
   "execution_count": 31,
   "id": "a305c5bc",
   "metadata": {},
   "outputs": [
    {
     "name": "stdout",
     "output_type": "stream",
     "text": [
      "4\n"
     ]
    }
   ],
   "source": [
    "print(len(d))"
   ]
  },
  {
   "cell_type": "code",
   "execution_count": 32,
   "id": "523fdb79",
   "metadata": {},
   "outputs": [],
   "source": [
    "s = {1,2,3,4,5,6}\n"
   ]
  },
  {
   "cell_type": "code",
   "execution_count": 33,
   "id": "b74fbd6e",
   "metadata": {},
   "outputs": [
    {
     "name": "stdout",
     "output_type": "stream",
     "text": [
      "6\n"
     ]
    }
   ],
   "source": [
    "print(len(s))"
   ]
  },
  {
   "cell_type": "code",
   "execution_count": null,
   "id": "61a35576",
   "metadata": {},
   "outputs": [],
   "source": []
  }
 ],
 "metadata": {
  "kernelspec": {
   "display_name": "Python 3 (ipykernel)",
   "language": "python",
   "name": "python3"
  },
  "language_info": {
   "codemirror_mode": {
    "name": "ipython",
    "version": 3
   },
   "file_extension": ".py",
   "mimetype": "text/x-python",
   "name": "python",
   "nbconvert_exporter": "python",
   "pygments_lexer": "ipython3",
   "version": "3.11.5"
  }
 },
 "nbformat": 4,
 "nbformat_minor": 5
}
